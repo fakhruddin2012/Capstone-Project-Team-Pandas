{
 "cells": [
  {
   "cell_type": "code",
   "execution_count": 1,
   "metadata": {},
   "outputs": [],
   "source": [
    "import pandas as pd\n",
    "import numpy as np"
   ]
  },
  {
   "cell_type": "code",
   "execution_count": 2,
   "metadata": {},
   "outputs": [],
   "source": [
    "master_df=pd.read_csv('C:\\\\Users\\\\Fakhruddin\\\\Capstone Project\\\\Mahindra First Choice Dataset\\\\master_df.csv')"
   ]
  },
  {
   "cell_type": "code",
   "execution_count": 7,
   "metadata": {},
   "outputs": [
    {
     "data": {
      "text/plain": [
       "Index(['Unnamed: 0', 'Cust Type', 'Customer No.', 'State', 'Gate Pass Time',\n",
       "       'KMs Reading', 'Labour Total', 'Make', 'Model', 'Order Type', 'Plant',\n",
       "       'Print Status', 'Business Partner', 'Partner Type', 'Data Origin',\n",
       "       'Title', 'City', 'Regn State', 'Invoice Date-Invoice Time',\n",
       "       'JobCard Date-JobCard Time', 'Year', 'Month', 'Total_Expense',\n",
       "       'Job_duration(in hrs)'],\n",
       "      dtype='object')"
      ]
     },
     "execution_count": 7,
     "metadata": {},
     "output_type": "execute_result"
    }
   ],
   "source": [
    "master_df.columns"
   ]
  },
  {
   "cell_type": "code",
   "execution_count": 66,
   "metadata": {},
   "outputs": [],
   "source": [
    "seleceted_df=master_df[['State','Order Type','JobCard Date-JobCard Time']]"
   ]
  },
  {
   "cell_type": "code",
   "execution_count": 67,
   "metadata": {},
   "outputs": [
    {
     "data": {
      "text/plain": [
       "State                        object\n",
       "Order Type                   object\n",
       "JobCard Date-JobCard Time    object\n",
       "dtype: object"
      ]
     },
     "execution_count": 67,
     "metadata": {},
     "output_type": "execute_result"
    }
   ],
   "source": [
    "seleceted_df.dtypes"
   ]
  },
  {
   "cell_type": "code",
   "execution_count": 68,
   "metadata": {
    "scrolled": false
   },
   "outputs": [
    {
     "name": "stderr",
     "output_type": "stream",
     "text": [
      "C:\\Users\\Fakhruddin\\Anaconda3\\lib\\site-packages\\ipykernel_launcher.py:1: SettingWithCopyWarning: \n",
      "A value is trying to be set on a copy of a slice from a DataFrame.\n",
      "Try using .loc[row_indexer,col_indexer] = value instead\n",
      "\n",
      "See the caveats in the documentation: https://pandas.pydata.org/pandas-docs/stable/user_guide/indexing.html#returning-a-view-versus-a-copy\n",
      "  \"\"\"Entry point for launching an IPython kernel.\n"
     ]
    }
   ],
   "source": [
    "seleceted_df['JobCard Date-JobCard Time']=pd.to_datetime(seleceted_df['JobCard Date-JobCard Time'])\n",
    "#seleceted_df['JobCard Time']=pd.to_datetime(seleceted_df['JobCard Time'])"
   ]
  },
  {
   "cell_type": "code",
   "execution_count": null,
   "metadata": {},
   "outputs": [],
   "source": []
  },
  {
   "cell_type": "code",
   "execution_count": 69,
   "metadata": {},
   "outputs": [
    {
     "data": {
      "text/plain": [
       "State                                object\n",
       "Order Type                           object\n",
       "JobCard Date-JobCard Time    datetime64[ns]\n",
       "dtype: object"
      ]
     },
     "execution_count": 69,
     "metadata": {},
     "output_type": "execute_result"
    }
   ],
   "source": [
    "seleceted_df.dtypes"
   ]
  },
  {
   "cell_type": "code",
   "execution_count": 70,
   "metadata": {},
   "outputs": [],
   "source": [
    "seleceted_df=seleceted_df.groupby(['State','JobCard Date-JobCard Time'])['Order Type'].value_counts(ascending=False).to_frame()"
   ]
  },
  {
   "cell_type": "code",
   "execution_count": 71,
   "metadata": {},
   "outputs": [
    {
     "data": {
      "text/html": [
       "<div>\n",
       "<style scoped>\n",
       "    .dataframe tbody tr th:only-of-type {\n",
       "        vertical-align: middle;\n",
       "    }\n",
       "\n",
       "    .dataframe tbody tr th {\n",
       "        vertical-align: top;\n",
       "    }\n",
       "\n",
       "    .dataframe thead th {\n",
       "        text-align: right;\n",
       "    }\n",
       "</style>\n",
       "<table border=\"1\" class=\"dataframe\">\n",
       "  <thead>\n",
       "    <tr style=\"text-align: right;\">\n",
       "      <th></th>\n",
       "      <th>State</th>\n",
       "      <th>JobCard Date-JobCard Time</th>\n",
       "      <th>Order Type</th>\n",
       "      <th>count</th>\n",
       "    </tr>\n",
       "  </thead>\n",
       "  <tbody>\n",
       "    <tr>\n",
       "      <th>0</th>\n",
       "      <td>andaman and nico.in.</td>\n",
       "      <td>2015-09-30 14:48:42</td>\n",
       "      <td>running repairs</td>\n",
       "      <td>1</td>\n",
       "    </tr>\n",
       "    <tr>\n",
       "      <th>1</th>\n",
       "      <td>andaman and nico.in.</td>\n",
       "      <td>2015-12-15 19:01:37</td>\n",
       "      <td>accidental</td>\n",
       "      <td>1</td>\n",
       "    </tr>\n",
       "    <tr>\n",
       "      <th>2</th>\n",
       "      <td>andaman and nico.in.</td>\n",
       "      <td>2015-12-17 18:00:50</td>\n",
       "      <td>running repairs</td>\n",
       "      <td>1</td>\n",
       "    </tr>\n",
       "    <tr>\n",
       "      <th>3</th>\n",
       "      <td>andaman and nico.in.</td>\n",
       "      <td>2015-12-31 16:26:13</td>\n",
       "      <td>running repairs</td>\n",
       "      <td>1</td>\n",
       "    </tr>\n",
       "    <tr>\n",
       "      <th>4</th>\n",
       "      <td>andaman and nico.in.</td>\n",
       "      <td>2016-07-16 18:46:34</td>\n",
       "      <td>running repairs</td>\n",
       "      <td>1</td>\n",
       "    </tr>\n",
       "  </tbody>\n",
       "</table>\n",
       "</div>"
      ],
      "text/plain": [
       "                  State JobCard Date-JobCard Time       Order Type  count\n",
       "0  andaman and nico.in.       2015-09-30 14:48:42  running repairs      1\n",
       "1  andaman and nico.in.       2015-12-15 19:01:37       accidental      1\n",
       "2  andaman and nico.in.       2015-12-17 18:00:50  running repairs      1\n",
       "3  andaman and nico.in.       2015-12-31 16:26:13  running repairs      1\n",
       "4  andaman and nico.in.       2016-07-16 18:46:34  running repairs      1"
      ]
     },
     "execution_count": 71,
     "metadata": {},
     "output_type": "execute_result"
    }
   ],
   "source": [
    "seleceted_df=seleceted_df.rename(columns={'Order Type':'count'})\n",
    "seleceted_df=seleceted_df.reset_index()\n",
    "seleceted_df.head()"
   ]
  },
  {
   "cell_type": "code",
   "execution_count": 72,
   "metadata": {},
   "outputs": [
    {
     "name": "stdout",
     "output_type": "stream",
     "text": [
      "2012-04-01 16:14:12\n",
      "2016-10-31 21:58:18\n"
     ]
    }
   ],
   "source": [
    "print(seleceted_df['JobCard Date-JobCard Time'].min())\n",
    "print(seleceted_df['JobCard Date-JobCard Time'].max())"
   ]
  },
  {
   "cell_type": "code",
   "execution_count": 55,
   "metadata": {},
   "outputs": [],
   "source": [
    "import plotly\n",
    "import plotly.express as px\n",
    "import plotly.graph_objects as go"
   ]
  },
  {
   "cell_type": "code",
   "execution_count": 56,
   "metadata": {},
   "outputs": [],
   "source": [
    "import dash\n",
    "import dash_core_components as dcc\n",
    "import dash_html_components as html"
   ]
  },
  {
   "cell_type": "code",
   "execution_count": 24,
   "metadata": {},
   "outputs": [],
   "source": [
    "import dash\n",
    "import dash_core_components as dcc\n",
    "import dash_html_components as html\n",
    "from dash.dependencies import Input, Output, State\n",
    "#import pandas_datareader.data as web\n",
    "from datetime import datetime"
   ]
  },
  {
   "cell_type": "code",
   "execution_count": 81,
   "metadata": {},
   "outputs": [
    {
     "name": "stdout",
     "output_type": "stream",
     "text": [
      "Dash is running on http://127.0.0.1:8050/\n",
      "\n",
      "Dash is running on http://127.0.0.1:8050/\n",
      "\n",
      "Dash is running on http://127.0.0.1:8050/\n",
      "\n",
      "Dash is running on http://127.0.0.1:8050/\n",
      "\n",
      "Dash is running on http://127.0.0.1:8050/\n",
      "\n",
      " Warning: This is a development server. Do not use app.run_server\n",
      " Warning: This is a development server. Do not use app.run_server\n",
      " Warning: This is a development server. Do not use app.run_server\n",
      " Warning: This is a development server. Do not use app.run_server\n",
      " Warning: This is a development server. Do not use app.run_server\n",
      " in production, use a production WSGI server like gunicorn instead.\n",
      "\n",
      " in production, use a production WSGI server like gunicorn instead.\n",
      "\n",
      " in production, use a production WSGI server like gunicorn instead.\n",
      "\n",
      " in production, use a production WSGI server like gunicorn instead.\n",
      "\n",
      " in production, use a production WSGI server like gunicorn instead.\n",
      "\n",
      " * Serving Flask app \"__main__\" (lazy loading)\n",
      " * Environment: production\n",
      "   WARNING: This is a development server. Do not use it in a production deployment.\n",
      "   Use a production WSGI server instead.\n",
      " * Debug mode: off\n"
     ]
    },
    {
     "name": "stderr",
     "output_type": "stream",
     "text": [
      " * Running on http://127.0.0.1:8050/ (Press CTRL+C to quit)\n",
      "127.0.0.1 - - [26/Jun/2020 00:12:47] \"\u001b[37mGET / HTTP/1.1\u001b[0m\" 200 -\n",
      "127.0.0.1 - - [26/Jun/2020 00:12:47] \"\u001b[37mGET /_dash-layout HTTP/1.1\u001b[0m\" 200 -\n",
      "127.0.0.1 - - [26/Jun/2020 00:12:47] \"\u001b[37mGET /_dash-dependencies HTTP/1.1\u001b[0m\" 200 -\n"
     ]
    }
   ],
   "source": [
    "app = dash.Dash()\n",
    "\n",
    "app.layout = html.Div([\n",
    "   ###################################################################################\n",
    "    html.H1('Order type Ticker Dashboard'),\n",
    "    html.Div([\n",
    "        html.H3('Select State:', style={'paddingRight':'30px'}),\n",
    "        # replace dcc.Input with dcc.Options, set options=options\n",
    "        dcc.Dropdown(\n",
    "            id='my_state',\n",
    "            options=[{'label':i,'value':i} for i in seleceted_df['State'].unique()],\n",
    "            value=['Andhra Pradesh']\n",
    "            \n",
    "        )\n",
    "        ], style={'display':'inline-block', 'verticalAlign':'top', 'width':'30%'}),\n",
    "    html.Div([\n",
    "        html.H3('Select start and end dates:'),\n",
    "        dcc.DatePickerRange(\n",
    "            id='my_date_picker',\n",
    "            min_date_allowed=2012-4-1 ,\n",
    "            max_date_allowed=2016-10-31,\n",
    "            start_date=datetime(2013, 1, 1),\n",
    "            end_date=datetime(2013, 1, 31)\n",
    "        )\n",
    "        ], style={'display':'inline-block'}),\n",
    "        html.Div([\n",
    "        html.Button(\n",
    "            id='submit-button',\n",
    "            n_clicks=0,\n",
    "            children='Submit',\n",
    "            style={'fontSize':24, 'marginLeft':'30px'}\n",
    "        ),\n",
    "    ], style={'display':'inline-block'}),\n",
    "    dcc.Graph(\n",
    "        id='my_graph'\n",
    "        \n",
    "            \n",
    "        \n",
    "    )\n",
    "##########################################################################################\n",
    "]) \n",
    "###########################################################################################\n",
    "###callback function:\n",
    "@app.callback(\n",
    "    Output('my_graph', 'figure'),\n",
    "    [Input('submit-button', 'n_clicks')],\n",
    "    [State('my_ticker_symbol', 'value'),\n",
    "    State('my_date_picker', 'start_date'),\n",
    "    State('my_date_picker', 'end_date')])\n",
    "####defining function:\n",
    "def update_graph(n_clicks,selected_state,start_date,end_date):\n",
    "    start=2013,1,5\n",
    "    end=2013,1,31\n",
    "    filtered_df = selected_state[(seleceted_df['State'==selected_state])&]\n",
    "    traces=[]\n",
    "    #for selected_state in df1.State.unique():\n",
    "    \n",
    "    trace1 = go.Bar(\n",
    "             x = seleceted_df['JobCard Date-JobCard Time'],\n",
    "             y=seleceted_df['count'],   \n",
    "            name = selected_state,\n",
    "            marker = dict(color = 'rgba(125, 125, 255, 0.5)',\n",
    "            line=dict(color='rgb(0,0,0)',width=1.5)))\n",
    "    traces.append(trace1)\n",
    "    \n",
    "    \n",
    "\n",
    "    return {\n",
    "        'data': traces,\n",
    "        'layout': go.Layout(\n",
    "            title='Order Type count State recieve',\n",
    "            xaxis={ 'title': 'Order Type'},\n",
    "            yaxis={'title': 'Count'},\n",
    "            hovermode='closest')\n",
    "        }\n",
    "    \n",
    "\n",
    "if __name__ == '__main__':\n",
    "    app.run_server()       "
   ]
  },
  {
   "cell_type": "code",
   "execution_count": null,
   "metadata": {},
   "outputs": [],
   "source": []
  }
 ],
 "metadata": {
  "kernelspec": {
   "display_name": "Python 3",
   "language": "python",
   "name": "python3"
  },
  "language_info": {
   "codemirror_mode": {
    "name": "ipython",
    "version": 3
   },
   "file_extension": ".py",
   "mimetype": "text/x-python",
   "name": "python",
   "nbconvert_exporter": "python",
   "pygments_lexer": "ipython3",
   "version": "3.7.3"
  }
 },
 "nbformat": 4,
 "nbformat_minor": 2
}
