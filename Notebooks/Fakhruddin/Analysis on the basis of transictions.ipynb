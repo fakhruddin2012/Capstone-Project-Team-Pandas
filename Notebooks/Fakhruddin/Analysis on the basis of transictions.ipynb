{
 "cells": [
  {
   "cell_type": "code",
   "execution_count": 1,
   "metadata": {},
   "outputs": [
    {
     "name": "stderr",
     "output_type": "stream",
     "text": [
      "C:\\Users\\Fakhruddin\\Anaconda3\\lib\\site-packages\\statsmodels\\tools\\_testing.py:19: FutureWarning: pandas.util.testing is deprecated. Use the functions in the public API at pandas.testing instead.\n",
      "  import pandas.util.testing as tm\n"
     ]
    }
   ],
   "source": [
    "import pandas as pd\n",
    "import numpy as np\n",
    "import seaborn as sns"
   ]
  },
  {
   "cell_type": "code",
   "execution_count": 2,
   "metadata": {},
   "outputs": [
    {
     "name": "stderr",
     "output_type": "stream",
     "text": [
      "C:\\Users\\Fakhruddin\\Anaconda3\\lib\\site-packages\\IPython\\core\\interactiveshell.py:3057: DtypeWarning: Columns (9,10,14,15,21,41,51) have mixed types.Specify dtype option on import or set low_memory=False.\n",
      "  interactivity=interactivity, compiler=compiler, result=result)\n"
     ]
    }
   ],
   "source": [
    "jtd_data=pd.read_csv('C:\\\\Users\\\\Fakhruddin\\\\Capstone Project\\\\Mahindra First Choice Dataset\\\\JTD.csv')\n",
    "invoice_data=pd.read_csv('C:\\\\Users\\\\Fakhruddin\\\\Capstone Project\\\\Mahindra First Choice Dataset\\\\Final_invoice.csv')"
   ]
  },
  {
   "cell_type": "code",
   "execution_count": 3,
   "metadata": {},
   "outputs": [
    {
     "data": {
      "text/html": [
       "<div>\n",
       "<style scoped>\n",
       "    .dataframe tbody tr th:only-of-type {\n",
       "        vertical-align: middle;\n",
       "    }\n",
       "\n",
       "    .dataframe tbody tr th {\n",
       "        vertical-align: top;\n",
       "    }\n",
       "\n",
       "    .dataframe thead th {\n",
       "        text-align: right;\n",
       "    }\n",
       "</style>\n",
       "<table border=\"1\" class=\"dataframe\">\n",
       "  <thead>\n",
       "    <tr style=\"text-align: right;\">\n",
       "      <th></th>\n",
       "      <th>Unnamed: 0</th>\n",
       "      <th>DBM Order</th>\n",
       "      <th>Order Item</th>\n",
       "      <th>Material</th>\n",
       "      <th>Labor Value Number</th>\n",
       "      <th>Description</th>\n",
       "      <th>Item Category</th>\n",
       "      <th>Order Quantity</th>\n",
       "      <th>Target quantity UoM</th>\n",
       "      <th>Net value</th>\n",
       "    </tr>\n",
       "  </thead>\n",
       "  <tbody>\n",
       "    <tr>\n",
       "      <th>0</th>\n",
       "      <td>0</td>\n",
       "      <td>22385</td>\n",
       "      <td>180</td>\n",
       "      <td>OSLCC_SRV31</td>\n",
       "      <td>NaN</td>\n",
       "      <td>MACHINING RR.SUSPENSION CHARGE  (MAJOR)</td>\n",
       "      <td>P010</td>\n",
       "      <td>1.2</td>\n",
       "      <td>MIN</td>\n",
       "      <td>1869.87</td>\n",
       "    </tr>\n",
       "    <tr>\n",
       "      <th>1</th>\n",
       "      <td>1</td>\n",
       "      <td>23910</td>\n",
       "      <td>10</td>\n",
       "      <td>1DM279018170117</td>\n",
       "      <td>NaN</td>\n",
       "      <td>ASSY.OIL COOLER (6-PLATE) (VOR</td>\n",
       "      <td>P002</td>\n",
       "      <td>1.0</td>\n",
       "      <td>EA</td>\n",
       "      <td>2151.13</td>\n",
       "    </tr>\n",
       "    <tr>\n",
       "      <th>2</th>\n",
       "      <td>2</td>\n",
       "      <td>23910</td>\n",
       "      <td>40</td>\n",
       "      <td>1IS150203BE01</td>\n",
       "      <td>NaN</td>\n",
       "      <td>FRONT WHEEL BEARING/ LUBRICATE</td>\n",
       "      <td>P002</td>\n",
       "      <td>1.0</td>\n",
       "      <td>EA</td>\n",
       "      <td>2552.92</td>\n",
       "    </tr>\n",
       "    <tr>\n",
       "      <th>3</th>\n",
       "      <td>3</td>\n",
       "      <td>23910</td>\n",
       "      <td>60</td>\n",
       "      <td>1DM279001990173</td>\n",
       "      <td>NaN</td>\n",
       "      <td>ASSY.CYL.HEAD W /O INJ.(NA W /O</td>\n",
       "      <td>P002</td>\n",
       "      <td>1.0</td>\n",
       "      <td>EA</td>\n",
       "      <td>20360.14</td>\n",
       "    </tr>\n",
       "    <tr>\n",
       "      <th>4</th>\n",
       "      <td>4</td>\n",
       "      <td>23910</td>\n",
       "      <td>70</td>\n",
       "      <td>1DM88552790S001SA</td>\n",
       "      <td>NaN</td>\n",
       "      <td>Engine Overhaul Kit -Indica Di</td>\n",
       "      <td>P002</td>\n",
       "      <td>1.0</td>\n",
       "      <td>EA</td>\n",
       "      <td>10691.63</td>\n",
       "    </tr>\n",
       "  </tbody>\n",
       "</table>\n",
       "</div>"
      ],
      "text/plain": [
       "   Unnamed: 0  DBM Order  Order Item           Material Labor Value Number  \\\n",
       "0           0      22385         180        OSLCC_SRV31                NaN   \n",
       "1           1      23910          10    1DM279018170117                NaN   \n",
       "2           2      23910          40      1IS150203BE01                NaN   \n",
       "3           3      23910          60    1DM279001990173                NaN   \n",
       "4           4      23910          70  1DM88552790S001SA                NaN   \n",
       "\n",
       "                               Description Item Category  Order Quantity  \\\n",
       "0  MACHINING RR.SUSPENSION CHARGE  (MAJOR)          P010             1.2   \n",
       "1           ASSY.OIL COOLER (6-PLATE) (VOR          P002             1.0   \n",
       "2           FRONT WHEEL BEARING/ LUBRICATE          P002             1.0   \n",
       "3          ASSY.CYL.HEAD W /O INJ.(NA W /O          P002             1.0   \n",
       "4           Engine Overhaul Kit -Indica Di          P002             1.0   \n",
       "\n",
       "  Target quantity UoM  Net value  \n",
       "0                 MIN    1869.87  \n",
       "1                  EA    2151.13  \n",
       "2                  EA    2552.92  \n",
       "3                  EA   20360.14  \n",
       "4                  EA   10691.63  "
      ]
     },
     "execution_count": 3,
     "metadata": {},
     "output_type": "execute_result"
    }
   ],
   "source": [
    "jtd_data.head()"
   ]
  },
  {
   "cell_type": "code",
   "execution_count": 4,
   "metadata": {},
   "outputs": [
    {
     "data": {
      "text/html": [
       "<div>\n",
       "<style scoped>\n",
       "    .dataframe tbody tr th:only-of-type {\n",
       "        vertical-align: middle;\n",
       "    }\n",
       "\n",
       "    .dataframe tbody tr th {\n",
       "        vertical-align: top;\n",
       "    }\n",
       "\n",
       "    .dataframe thead th {\n",
       "        text-align: right;\n",
       "    }\n",
       "</style>\n",
       "<table border=\"1\" class=\"dataframe\">\n",
       "  <thead>\n",
       "    <tr style=\"text-align: right;\">\n",
       "      <th></th>\n",
       "      <th>Unnamed: 0</th>\n",
       "      <th>Amt Rcvd From Custom</th>\n",
       "      <th>Amt Rcvd From Ins Co</th>\n",
       "      <th>Area / Locality</th>\n",
       "      <th>CGST(14%)</th>\n",
       "      <th>CGST(2.5%)</th>\n",
       "      <th>CGST(6%)</th>\n",
       "      <th>CGST(9%)</th>\n",
       "      <th>CITY</th>\n",
       "      <th>Cash /Cashless Type</th>\n",
       "      <th>...</th>\n",
       "      <th>Service Advisor Name</th>\n",
       "      <th>TDS amount</th>\n",
       "      <th>Technician Name</th>\n",
       "      <th>Total Amt Wtd Tax.</th>\n",
       "      <th>Total CGST</th>\n",
       "      <th>Total GST</th>\n",
       "      <th>Total IGST</th>\n",
       "      <th>Total SGST/UGST</th>\n",
       "      <th>Total Value</th>\n",
       "      <th>User ID</th>\n",
       "    </tr>\n",
       "  </thead>\n",
       "  <tbody>\n",
       "    <tr>\n",
       "      <th>0</th>\n",
       "      <td>0</td>\n",
       "      <td>0.0</td>\n",
       "      <td>0.0</td>\n",
       "      <td>MAJIWADA</td>\n",
       "      <td>0.0</td>\n",
       "      <td>0.0</td>\n",
       "      <td>0.0</td>\n",
       "      <td>0.0</td>\n",
       "      <td>Thane</td>\n",
       "      <td>NaN</td>\n",
       "      <td>...</td>\n",
       "      <td>NaN</td>\n",
       "      <td>0.0</td>\n",
       "      <td>RUPESH</td>\n",
       "      <td>4051.95</td>\n",
       "      <td>0.0</td>\n",
       "      <td>0.0</td>\n",
       "      <td>0.0</td>\n",
       "      <td>0.0</td>\n",
       "      <td>4051.95</td>\n",
       "      <td>BC01FS1</td>\n",
       "    </tr>\n",
       "    <tr>\n",
       "      <th>1</th>\n",
       "      <td>1</td>\n",
       "      <td>0.0</td>\n",
       "      <td>0.0</td>\n",
       "      <td>THNAE</td>\n",
       "      <td>0.0</td>\n",
       "      <td>0.0</td>\n",
       "      <td>0.0</td>\n",
       "      <td>0.0</td>\n",
       "      <td>THNAE</td>\n",
       "      <td>NaN</td>\n",
       "      <td>...</td>\n",
       "      <td>NaN</td>\n",
       "      <td>0.0</td>\n",
       "      <td>PRASHANT</td>\n",
       "      <td>1001.29</td>\n",
       "      <td>0.0</td>\n",
       "      <td>0.0</td>\n",
       "      <td>0.0</td>\n",
       "      <td>0.0</td>\n",
       "      <td>1001.29</td>\n",
       "      <td>BC01SA2</td>\n",
       "    </tr>\n",
       "    <tr>\n",
       "      <th>2</th>\n",
       "      <td>2</td>\n",
       "      <td>0.0</td>\n",
       "      <td>0.0</td>\n",
       "      <td>THANE</td>\n",
       "      <td>0.0</td>\n",
       "      <td>0.0</td>\n",
       "      <td>0.0</td>\n",
       "      <td>0.0</td>\n",
       "      <td>THANE[W]</td>\n",
       "      <td>NaN</td>\n",
       "      <td>...</td>\n",
       "      <td>NaN</td>\n",
       "      <td>0.0</td>\n",
       "      <td>IMRAN</td>\n",
       "      <td>233.14</td>\n",
       "      <td>0.0</td>\n",
       "      <td>0.0</td>\n",
       "      <td>0.0</td>\n",
       "      <td>0.0</td>\n",
       "      <td>233.14</td>\n",
       "      <td>BC01SA2</td>\n",
       "    </tr>\n",
       "    <tr>\n",
       "      <th>3</th>\n",
       "      <td>3</td>\n",
       "      <td>0.0</td>\n",
       "      <td>0.0</td>\n",
       "      <td>THNAE</td>\n",
       "      <td>0.0</td>\n",
       "      <td>0.0</td>\n",
       "      <td>0.0</td>\n",
       "      <td>0.0</td>\n",
       "      <td>THNAE</td>\n",
       "      <td>NaN</td>\n",
       "      <td>...</td>\n",
       "      <td>NaN</td>\n",
       "      <td>0.0</td>\n",
       "      <td>PRASHANT</td>\n",
       "      <td>0.00</td>\n",
       "      <td>0.0</td>\n",
       "      <td>0.0</td>\n",
       "      <td>0.0</td>\n",
       "      <td>0.0</td>\n",
       "      <td>0.00</td>\n",
       "      <td>BC01SA2</td>\n",
       "    </tr>\n",
       "    <tr>\n",
       "      <th>4</th>\n",
       "      <td>4</td>\n",
       "      <td>0.0</td>\n",
       "      <td>0.0</td>\n",
       "      <td>THANE</td>\n",
       "      <td>0.0</td>\n",
       "      <td>0.0</td>\n",
       "      <td>0.0</td>\n",
       "      <td>0.0</td>\n",
       "      <td>THANE</td>\n",
       "      <td>NaN</td>\n",
       "      <td>...</td>\n",
       "      <td>NaN</td>\n",
       "      <td>0.0</td>\n",
       "      <td>DAYANAND</td>\n",
       "      <td>2747.12</td>\n",
       "      <td>0.0</td>\n",
       "      <td>0.0</td>\n",
       "      <td>0.0</td>\n",
       "      <td>0.0</td>\n",
       "      <td>2747.12</td>\n",
       "      <td>BC01SA2</td>\n",
       "    </tr>\n",
       "  </tbody>\n",
       "</table>\n",
       "<p>5 rows × 59 columns</p>\n",
       "</div>"
      ],
      "text/plain": [
       "   Unnamed: 0  Amt Rcvd From Custom  Amt Rcvd From Ins Co Area / Locality  \\\n",
       "0           0                   0.0                   0.0        MAJIWADA   \n",
       "1           1                   0.0                   0.0           THNAE   \n",
       "2           2                   0.0                   0.0           THANE   \n",
       "3           3                   0.0                   0.0           THNAE   \n",
       "4           4                   0.0                   0.0           THANE   \n",
       "\n",
       "   CGST(14%)  CGST(2.5%)  CGST(6%)  CGST(9%)      CITY Cash /Cashless Type  \\\n",
       "0        0.0         0.0       0.0       0.0     Thane                 NaN   \n",
       "1        0.0         0.0       0.0       0.0     THNAE                 NaN   \n",
       "2        0.0         0.0       0.0       0.0  THANE[W]                 NaN   \n",
       "3        0.0         0.0       0.0       0.0     THNAE                 NaN   \n",
       "4        0.0         0.0       0.0       0.0     THANE                 NaN   \n",
       "\n",
       "   ... Service Advisor Name TDS amount Technician Name Total Amt Wtd Tax.  \\\n",
       "0  ...                  NaN        0.0          RUPESH            4051.95   \n",
       "1  ...                  NaN        0.0        PRASHANT            1001.29   \n",
       "2  ...                  NaN        0.0           IMRAN             233.14   \n",
       "3  ...                  NaN        0.0        PRASHANT               0.00   \n",
       "4  ...                  NaN        0.0        DAYANAND            2747.12   \n",
       "\n",
       "  Total CGST Total GST Total IGST  Total SGST/UGST  Total Value  User ID  \n",
       "0        0.0       0.0        0.0              0.0      4051.95  BC01FS1  \n",
       "1        0.0       0.0        0.0              0.0      1001.29  BC01SA2  \n",
       "2        0.0       0.0        0.0              0.0       233.14  BC01SA2  \n",
       "3        0.0       0.0        0.0              0.0         0.00  BC01SA2  \n",
       "4        0.0       0.0        0.0              0.0      2747.12  BC01SA2  \n",
       "\n",
       "[5 rows x 59 columns]"
      ]
     },
     "execution_count": 4,
     "metadata": {},
     "output_type": "execute_result"
    }
   ],
   "source": [
    "invoice_data.head()"
   ]
  },
  {
   "cell_type": "code",
   "execution_count": 5,
   "metadata": {},
   "outputs": [
    {
     "data": {
      "text/plain": [
       "(492314, 59)"
      ]
     },
     "execution_count": 5,
     "metadata": {},
     "output_type": "execute_result"
    }
   ],
   "source": [
    "invoice_data.shape"
   ]
  },
  {
   "cell_type": "code",
   "execution_count": 7,
   "metadata": {},
   "outputs": [],
   "source": [
    "filt_invoice_data=invoice_data[['Customer No.','Cash /Cashless Type','District','Invoice Time','Invoice Date','JobCard Date','JobCard Time']]"
   ]
  },
  {
   "cell_type": "code",
   "execution_count": 8,
   "metadata": {},
   "outputs": [
    {
     "data": {
      "text/plain": [
       "(492314, 7)"
      ]
     },
     "execution_count": 8,
     "metadata": {},
     "output_type": "execute_result"
    }
   ],
   "source": [
    "filt_invoice_data.shape"
   ]
  },
  {
   "cell_type": "code",
   "execution_count": 9,
   "metadata": {},
   "outputs": [
    {
     "data": {
      "text/plain": [
       "Customer No.                0\n",
       "Cash /Cashless Type    464894\n",
       "District                    0\n",
       "Invoice Time                0\n",
       "Invoice Date                0\n",
       "JobCard Date                0\n",
       "JobCard Time                0\n",
       "dtype: int64"
      ]
     },
     "execution_count": 9,
     "metadata": {},
     "output_type": "execute_result"
    }
   ],
   "source": [
    "filt_invoice_data.isna().sum()"
   ]
  },
  {
   "cell_type": "code",
   "execution_count": 10,
   "metadata": {},
   "outputs": [],
   "source": [
    "filt_invoice_data=filt_invoice_data.dropna()"
   ]
  },
  {
   "cell_type": "code",
   "execution_count": 11,
   "metadata": {},
   "outputs": [
    {
     "data": {
      "text/plain": [
       "(27420, 7)"
      ]
     },
     "execution_count": 11,
     "metadata": {},
     "output_type": "execute_result"
    }
   ],
   "source": [
    "filt_invoice_data.shape"
   ]
  },
  {
   "cell_type": "code",
   "execution_count": 16,
   "metadata": {},
   "outputs": [
    {
     "data": {
      "text/plain": [
       "Index(['Customer No.', 'Cash /Cashless Type', 'District', 'Invoice Time',\n",
       "       'Invoice Date', 'JobCard Date', 'JobCard Time'],\n",
       "      dtype='object')"
      ]
     },
     "execution_count": 16,
     "metadata": {},
     "output_type": "execute_result"
    }
   ],
   "source": [
    "filt_invoice_data.columns"
   ]
  },
  {
   "cell_type": "code",
   "execution_count": 19,
   "metadata": {},
   "outputs": [
    {
     "name": "stderr",
     "output_type": "stream",
     "text": [
      "C:\\Users\\Fakhruddin\\Anaconda3\\lib\\site-packages\\ipykernel_launcher.py:1: SettingWithCopyWarning: \n",
      "A value is trying to be set on a copy of a slice from a DataFrame.\n",
      "Try using .loc[row_indexer,col_indexer] = value instead\n",
      "\n",
      "See the caveats in the documentation: https://pandas.pydata.org/pandas-docs/stable/user_guide/indexing.html#returning-a-view-versus-a-copy\n",
      "  \"\"\"Entry point for launching an IPython kernel.\n",
      "C:\\Users\\Fakhruddin\\Anaconda3\\lib\\site-packages\\ipykernel_launcher.py:2: SettingWithCopyWarning: \n",
      "A value is trying to be set on a copy of a slice from a DataFrame.\n",
      "Try using .loc[row_indexer,col_indexer] = value instead\n",
      "\n",
      "See the caveats in the documentation: https://pandas.pydata.org/pandas-docs/stable/user_guide/indexing.html#returning-a-view-versus-a-copy\n",
      "  \n"
     ]
    }
   ],
   "source": [
    "filt_invoice_data['invoice dateime']=filt_invoice_data['Invoice Date']+ ' '+  filt_invoice_data['Invoice Time']\n",
    "filt_invoice_data['jobcard dateime']=filt_invoice_data['JobCard Date']+ ' '+  filt_invoice_data['JobCard Time']"
   ]
  },
  {
   "cell_type": "code",
   "execution_count": 20,
   "metadata": {},
   "outputs": [
    {
     "data": {
      "text/html": [
       "<div>\n",
       "<style scoped>\n",
       "    .dataframe tbody tr th:only-of-type {\n",
       "        vertical-align: middle;\n",
       "    }\n",
       "\n",
       "    .dataframe tbody tr th {\n",
       "        vertical-align: top;\n",
       "    }\n",
       "\n",
       "    .dataframe thead th {\n",
       "        text-align: right;\n",
       "    }\n",
       "</style>\n",
       "<table border=\"1\" class=\"dataframe\">\n",
       "  <thead>\n",
       "    <tr style=\"text-align: right;\">\n",
       "      <th></th>\n",
       "      <th>Customer No.</th>\n",
       "      <th>Cash /Cashless Type</th>\n",
       "      <th>District</th>\n",
       "      <th>Invoice Time</th>\n",
       "      <th>Invoice Date</th>\n",
       "      <th>JobCard Date</th>\n",
       "      <th>JobCard Time</th>\n",
       "      <th>invoice dateime</th>\n",
       "      <th>jobcard dateime</th>\n",
       "    </tr>\n",
       "  </thead>\n",
       "  <tbody>\n",
       "    <tr>\n",
       "      <th>39</th>\n",
       "      <td>82212</td>\n",
       "      <td>CASH</td>\n",
       "      <td>Maharashtra</td>\n",
       "      <td>17:45:56</td>\n",
       "      <td>2015-01-07</td>\n",
       "      <td>2014-12-31</td>\n",
       "      <td>19:07:08</td>\n",
       "      <td>2015-01-07 17:45:56</td>\n",
       "      <td>2014-12-31 19:07:08</td>\n",
       "    </tr>\n",
       "    <tr>\n",
       "      <th>68</th>\n",
       "      <td>82548</td>\n",
       "      <td>CASHLESS</td>\n",
       "      <td>Maharashtra</td>\n",
       "      <td>15:47:17</td>\n",
       "      <td>2015-01-11</td>\n",
       "      <td>2014-12-20</td>\n",
       "      <td>15:02:04</td>\n",
       "      <td>2015-01-11 15:47:17</td>\n",
       "      <td>2014-12-20 15:02:04</td>\n",
       "    </tr>\n",
       "    <tr>\n",
       "      <th>101</th>\n",
       "      <td>85933</td>\n",
       "      <td>CASHLESS</td>\n",
       "      <td>Maharashtra</td>\n",
       "      <td>16:07:27</td>\n",
       "      <td>2015-01-15</td>\n",
       "      <td>2015-01-12</td>\n",
       "      <td>16:28:05</td>\n",
       "      <td>2015-01-15 16:07:27</td>\n",
       "      <td>2015-01-12 16:28:05</td>\n",
       "    </tr>\n",
       "    <tr>\n",
       "      <th>119</th>\n",
       "      <td>29422</td>\n",
       "      <td>CASH</td>\n",
       "      <td>Maharashtra</td>\n",
       "      <td>11:30:14</td>\n",
       "      <td>2015-01-17</td>\n",
       "      <td>2015-01-15</td>\n",
       "      <td>16:43:53</td>\n",
       "      <td>2015-01-17 11:30:14</td>\n",
       "      <td>2015-01-15 16:43:53</td>\n",
       "    </tr>\n",
       "    <tr>\n",
       "      <th>120</th>\n",
       "      <td>74270</td>\n",
       "      <td>CASHLESS</td>\n",
       "      <td>Maharashtra</td>\n",
       "      <td>12:50:23</td>\n",
       "      <td>2015-01-17</td>\n",
       "      <td>2015-01-12</td>\n",
       "      <td>10:46:18</td>\n",
       "      <td>2015-01-17 12:50:23</td>\n",
       "      <td>2015-01-12 10:46:18</td>\n",
       "    </tr>\n",
       "  </tbody>\n",
       "</table>\n",
       "</div>"
      ],
      "text/plain": [
       "    Customer No. Cash /Cashless Type     District Invoice Time Invoice Date  \\\n",
       "39         82212                CASH  Maharashtra     17:45:56   2015-01-07   \n",
       "68         82548            CASHLESS  Maharashtra     15:47:17   2015-01-11   \n",
       "101        85933            CASHLESS  Maharashtra     16:07:27   2015-01-15   \n",
       "119        29422                CASH  Maharashtra     11:30:14   2015-01-17   \n",
       "120        74270            CASHLESS  Maharashtra     12:50:23   2015-01-17   \n",
       "\n",
       "    JobCard Date JobCard Time      invoice dateime      jobcard dateime  \n",
       "39    2014-12-31     19:07:08  2015-01-07 17:45:56  2014-12-31 19:07:08  \n",
       "68    2014-12-20     15:02:04  2015-01-11 15:47:17  2014-12-20 15:02:04  \n",
       "101   2015-01-12     16:28:05  2015-01-15 16:07:27  2015-01-12 16:28:05  \n",
       "119   2015-01-15     16:43:53  2015-01-17 11:30:14  2015-01-15 16:43:53  \n",
       "120   2015-01-12     10:46:18  2015-01-17 12:50:23  2015-01-12 10:46:18  "
      ]
     },
     "execution_count": 20,
     "metadata": {},
     "output_type": "execute_result"
    }
   ],
   "source": [
    "filt_invoice_data.head()"
   ]
  },
  {
   "cell_type": "code",
   "execution_count": 21,
   "metadata": {},
   "outputs": [
    {
     "data": {
      "text/plain": [
       "Customer No.           object\n",
       "Cash /Cashless Type    object\n",
       "District               object\n",
       "Invoice Time           object\n",
       "Invoice Date           object\n",
       "JobCard Date           object\n",
       "JobCard Time           object\n",
       "invoice dateime        object\n",
       "jobcard dateime        object\n",
       "dtype: object"
      ]
     },
     "execution_count": 21,
     "metadata": {},
     "output_type": "execute_result"
    }
   ],
   "source": [
    "filt_invoice_data.dtypes"
   ]
  },
  {
   "cell_type": "code",
   "execution_count": 22,
   "metadata": {},
   "outputs": [
    {
     "name": "stderr",
     "output_type": "stream",
     "text": [
      "C:\\Users\\Fakhruddin\\Anaconda3\\lib\\site-packages\\ipykernel_launcher.py:1: SettingWithCopyWarning: \n",
      "A value is trying to be set on a copy of a slice from a DataFrame.\n",
      "Try using .loc[row_indexer,col_indexer] = value instead\n",
      "\n",
      "See the caveats in the documentation: https://pandas.pydata.org/pandas-docs/stable/user_guide/indexing.html#returning-a-view-versus-a-copy\n",
      "  \"\"\"Entry point for launching an IPython kernel.\n",
      "C:\\Users\\Fakhruddin\\Anaconda3\\lib\\site-packages\\ipykernel_launcher.py:2: SettingWithCopyWarning: \n",
      "A value is trying to be set on a copy of a slice from a DataFrame.\n",
      "Try using .loc[row_indexer,col_indexer] = value instead\n",
      "\n",
      "See the caveats in the documentation: https://pandas.pydata.org/pandas-docs/stable/user_guide/indexing.html#returning-a-view-versus-a-copy\n",
      "  \n"
     ]
    }
   ],
   "source": [
    "filt_invoice_data['jobcard dateime']=pd.to_datetime(filt_invoice_data['jobcard dateime'])\n",
    "filt_invoice_data['invoice dateime']=pd.to_datetime(filt_invoice_data['invoice dateime'])"
   ]
  },
  {
   "cell_type": "code",
   "execution_count": 23,
   "metadata": {},
   "outputs": [
    {
     "data": {
      "text/plain": [
       "Customer No.                   object\n",
       "Cash /Cashless Type            object\n",
       "District                       object\n",
       "Invoice Time                   object\n",
       "Invoice Date                   object\n",
       "JobCard Date                   object\n",
       "JobCard Time                   object\n",
       "invoice dateime        datetime64[ns]\n",
       "jobcard dateime        datetime64[ns]\n",
       "dtype: object"
      ]
     },
     "execution_count": 23,
     "metadata": {},
     "output_type": "execute_result"
    }
   ],
   "source": [
    "filt_invoice_data.dtypes"
   ]
  },
  {
   "cell_type": "code",
   "execution_count": 24,
   "metadata": {},
   "outputs": [
    {
     "data": {
      "text/html": [
       "<div>\n",
       "<style scoped>\n",
       "    .dataframe tbody tr th:only-of-type {\n",
       "        vertical-align: middle;\n",
       "    }\n",
       "\n",
       "    .dataframe tbody tr th {\n",
       "        vertical-align: top;\n",
       "    }\n",
       "\n",
       "    .dataframe thead th {\n",
       "        text-align: right;\n",
       "    }\n",
       "</style>\n",
       "<table border=\"1\" class=\"dataframe\">\n",
       "  <thead>\n",
       "    <tr style=\"text-align: right;\">\n",
       "      <th></th>\n",
       "      <th>Customer No.</th>\n",
       "      <th>Cash /Cashless Type</th>\n",
       "      <th>District</th>\n",
       "      <th>Invoice Time</th>\n",
       "      <th>Invoice Date</th>\n",
       "      <th>JobCard Date</th>\n",
       "      <th>JobCard Time</th>\n",
       "      <th>invoice dateime</th>\n",
       "      <th>jobcard dateime</th>\n",
       "    </tr>\n",
       "  </thead>\n",
       "  <tbody>\n",
       "    <tr>\n",
       "      <th>39</th>\n",
       "      <td>82212</td>\n",
       "      <td>CASH</td>\n",
       "      <td>Maharashtra</td>\n",
       "      <td>17:45:56</td>\n",
       "      <td>2015-01-07</td>\n",
       "      <td>2014-12-31</td>\n",
       "      <td>19:07:08</td>\n",
       "      <td>2015-01-07 17:45:56</td>\n",
       "      <td>2014-12-31 19:07:08</td>\n",
       "    </tr>\n",
       "    <tr>\n",
       "      <th>68</th>\n",
       "      <td>82548</td>\n",
       "      <td>CASHLESS</td>\n",
       "      <td>Maharashtra</td>\n",
       "      <td>15:47:17</td>\n",
       "      <td>2015-01-11</td>\n",
       "      <td>2014-12-20</td>\n",
       "      <td>15:02:04</td>\n",
       "      <td>2015-01-11 15:47:17</td>\n",
       "      <td>2014-12-20 15:02:04</td>\n",
       "    </tr>\n",
       "    <tr>\n",
       "      <th>101</th>\n",
       "      <td>85933</td>\n",
       "      <td>CASHLESS</td>\n",
       "      <td>Maharashtra</td>\n",
       "      <td>16:07:27</td>\n",
       "      <td>2015-01-15</td>\n",
       "      <td>2015-01-12</td>\n",
       "      <td>16:28:05</td>\n",
       "      <td>2015-01-15 16:07:27</td>\n",
       "      <td>2015-01-12 16:28:05</td>\n",
       "    </tr>\n",
       "    <tr>\n",
       "      <th>119</th>\n",
       "      <td>29422</td>\n",
       "      <td>CASH</td>\n",
       "      <td>Maharashtra</td>\n",
       "      <td>11:30:14</td>\n",
       "      <td>2015-01-17</td>\n",
       "      <td>2015-01-15</td>\n",
       "      <td>16:43:53</td>\n",
       "      <td>2015-01-17 11:30:14</td>\n",
       "      <td>2015-01-15 16:43:53</td>\n",
       "    </tr>\n",
       "    <tr>\n",
       "      <th>120</th>\n",
       "      <td>74270</td>\n",
       "      <td>CASHLESS</td>\n",
       "      <td>Maharashtra</td>\n",
       "      <td>12:50:23</td>\n",
       "      <td>2015-01-17</td>\n",
       "      <td>2015-01-12</td>\n",
       "      <td>10:46:18</td>\n",
       "      <td>2015-01-17 12:50:23</td>\n",
       "      <td>2015-01-12 10:46:18</td>\n",
       "    </tr>\n",
       "  </tbody>\n",
       "</table>\n",
       "</div>"
      ],
      "text/plain": [
       "    Customer No. Cash /Cashless Type     District Invoice Time Invoice Date  \\\n",
       "39         82212                CASH  Maharashtra     17:45:56   2015-01-07   \n",
       "68         82548            CASHLESS  Maharashtra     15:47:17   2015-01-11   \n",
       "101        85933            CASHLESS  Maharashtra     16:07:27   2015-01-15   \n",
       "119        29422                CASH  Maharashtra     11:30:14   2015-01-17   \n",
       "120        74270            CASHLESS  Maharashtra     12:50:23   2015-01-17   \n",
       "\n",
       "    JobCard Date JobCard Time     invoice dateime     jobcard dateime  \n",
       "39    2014-12-31     19:07:08 2015-01-07 17:45:56 2014-12-31 19:07:08  \n",
       "68    2014-12-20     15:02:04 2015-01-11 15:47:17 2014-12-20 15:02:04  \n",
       "101   2015-01-12     16:28:05 2015-01-15 16:07:27 2015-01-12 16:28:05  \n",
       "119   2015-01-15     16:43:53 2015-01-17 11:30:14 2015-01-15 16:43:53  \n",
       "120   2015-01-12     10:46:18 2015-01-17 12:50:23 2015-01-12 10:46:18  "
      ]
     },
     "execution_count": 24,
     "metadata": {},
     "output_type": "execute_result"
    }
   ],
   "source": [
    "filt_invoice_data.head()"
   ]
  },
  {
   "cell_type": "code",
   "execution_count": 25,
   "metadata": {},
   "outputs": [
    {
     "data": {
      "text/plain": [
       "CASH        22193\n",
       "CASHLESS     5011\n",
       "Z             216\n",
       "Name: Cash /Cashless Type, dtype: int64"
      ]
     },
     "execution_count": 25,
     "metadata": {},
     "output_type": "execute_result"
    }
   ],
   "source": [
    "filt_invoice_data['Cash /Cashless Type'].value_counts()"
   ]
  },
  {
   "cell_type": "code",
   "execution_count": 26,
   "metadata": {},
   "outputs": [
    {
     "name": "stderr",
     "output_type": "stream",
     "text": [
      "C:\\Users\\Fakhruddin\\Anaconda3\\lib\\site-packages\\ipykernel_launcher.py:1: SettingWithCopyWarning: \n",
      "A value is trying to be set on a copy of a slice from a DataFrame.\n",
      "Try using .loc[row_indexer,col_indexer] = value instead\n",
      "\n",
      "See the caveats in the documentation: https://pandas.pydata.org/pandas-docs/stable/user_guide/indexing.html#returning-a-view-versus-a-copy\n",
      "  \"\"\"Entry point for launching an IPython kernel.\n"
     ]
    }
   ],
   "source": [
    "filt_invoice_data['year']=filt_invoice_data['invoice dateime'].dt.year"
   ]
  },
  {
   "cell_type": "code",
   "execution_count": 27,
   "metadata": {},
   "outputs": [
    {
     "data": {
      "text/html": [
       "<div>\n",
       "<style scoped>\n",
       "    .dataframe tbody tr th:only-of-type {\n",
       "        vertical-align: middle;\n",
       "    }\n",
       "\n",
       "    .dataframe tbody tr th {\n",
       "        vertical-align: top;\n",
       "    }\n",
       "\n",
       "    .dataframe thead th {\n",
       "        text-align: right;\n",
       "    }\n",
       "</style>\n",
       "<table border=\"1\" class=\"dataframe\">\n",
       "  <thead>\n",
       "    <tr style=\"text-align: right;\">\n",
       "      <th></th>\n",
       "      <th>Customer No.</th>\n",
       "      <th>Cash /Cashless Type</th>\n",
       "      <th>District</th>\n",
       "      <th>Invoice Time</th>\n",
       "      <th>Invoice Date</th>\n",
       "      <th>JobCard Date</th>\n",
       "      <th>JobCard Time</th>\n",
       "      <th>invoice dateime</th>\n",
       "      <th>jobcard dateime</th>\n",
       "      <th>year</th>\n",
       "    </tr>\n",
       "  </thead>\n",
       "  <tbody>\n",
       "    <tr>\n",
       "      <th>39</th>\n",
       "      <td>82212</td>\n",
       "      <td>CASH</td>\n",
       "      <td>Maharashtra</td>\n",
       "      <td>17:45:56</td>\n",
       "      <td>2015-01-07</td>\n",
       "      <td>2014-12-31</td>\n",
       "      <td>19:07:08</td>\n",
       "      <td>2015-01-07 17:45:56</td>\n",
       "      <td>2014-12-31 19:07:08</td>\n",
       "      <td>2015</td>\n",
       "    </tr>\n",
       "    <tr>\n",
       "      <th>68</th>\n",
       "      <td>82548</td>\n",
       "      <td>CASHLESS</td>\n",
       "      <td>Maharashtra</td>\n",
       "      <td>15:47:17</td>\n",
       "      <td>2015-01-11</td>\n",
       "      <td>2014-12-20</td>\n",
       "      <td>15:02:04</td>\n",
       "      <td>2015-01-11 15:47:17</td>\n",
       "      <td>2014-12-20 15:02:04</td>\n",
       "      <td>2015</td>\n",
       "    </tr>\n",
       "    <tr>\n",
       "      <th>101</th>\n",
       "      <td>85933</td>\n",
       "      <td>CASHLESS</td>\n",
       "      <td>Maharashtra</td>\n",
       "      <td>16:07:27</td>\n",
       "      <td>2015-01-15</td>\n",
       "      <td>2015-01-12</td>\n",
       "      <td>16:28:05</td>\n",
       "      <td>2015-01-15 16:07:27</td>\n",
       "      <td>2015-01-12 16:28:05</td>\n",
       "      <td>2015</td>\n",
       "    </tr>\n",
       "    <tr>\n",
       "      <th>119</th>\n",
       "      <td>29422</td>\n",
       "      <td>CASH</td>\n",
       "      <td>Maharashtra</td>\n",
       "      <td>11:30:14</td>\n",
       "      <td>2015-01-17</td>\n",
       "      <td>2015-01-15</td>\n",
       "      <td>16:43:53</td>\n",
       "      <td>2015-01-17 11:30:14</td>\n",
       "      <td>2015-01-15 16:43:53</td>\n",
       "      <td>2015</td>\n",
       "    </tr>\n",
       "    <tr>\n",
       "      <th>120</th>\n",
       "      <td>74270</td>\n",
       "      <td>CASHLESS</td>\n",
       "      <td>Maharashtra</td>\n",
       "      <td>12:50:23</td>\n",
       "      <td>2015-01-17</td>\n",
       "      <td>2015-01-12</td>\n",
       "      <td>10:46:18</td>\n",
       "      <td>2015-01-17 12:50:23</td>\n",
       "      <td>2015-01-12 10:46:18</td>\n",
       "      <td>2015</td>\n",
       "    </tr>\n",
       "  </tbody>\n",
       "</table>\n",
       "</div>"
      ],
      "text/plain": [
       "    Customer No. Cash /Cashless Type     District Invoice Time Invoice Date  \\\n",
       "39         82212                CASH  Maharashtra     17:45:56   2015-01-07   \n",
       "68         82548            CASHLESS  Maharashtra     15:47:17   2015-01-11   \n",
       "101        85933            CASHLESS  Maharashtra     16:07:27   2015-01-15   \n",
       "119        29422                CASH  Maharashtra     11:30:14   2015-01-17   \n",
       "120        74270            CASHLESS  Maharashtra     12:50:23   2015-01-17   \n",
       "\n",
       "    JobCard Date JobCard Time     invoice dateime     jobcard dateime  year  \n",
       "39    2014-12-31     19:07:08 2015-01-07 17:45:56 2014-12-31 19:07:08  2015  \n",
       "68    2014-12-20     15:02:04 2015-01-11 15:47:17 2014-12-20 15:02:04  2015  \n",
       "101   2015-01-12     16:28:05 2015-01-15 16:07:27 2015-01-12 16:28:05  2015  \n",
       "119   2015-01-15     16:43:53 2015-01-17 11:30:14 2015-01-15 16:43:53  2015  \n",
       "120   2015-01-12     10:46:18 2015-01-17 12:50:23 2015-01-12 10:46:18  2015  "
      ]
     },
     "execution_count": 27,
     "metadata": {},
     "output_type": "execute_result"
    }
   ],
   "source": [
    "filt_invoice_data.head()"
   ]
  },
  {
   "cell_type": "code",
   "execution_count": 30,
   "metadata": {},
   "outputs": [
    {
     "data": {
      "text/plain": [
       "year  Cash /Cashless Type\n",
       "2015  CASH                   10314\n",
       "2014  CASH                    6488\n",
       "2013  CASH                    4468\n",
       "2015  CASHLESS                2943\n",
       "2014  CASHLESS                1335\n",
       "2012  CASH                     923\n",
       "2013  CASHLESS                 585\n",
       "2015  Z                        165\n",
       "2012  CASHLESS                 148\n",
       "2014  Z                         51\n",
       "Name: Cash /Cashless Type, dtype: int64"
      ]
     },
     "execution_count": 30,
     "metadata": {},
     "output_type": "execute_result"
    }
   ],
   "source": [
    "filt_invoice_data.groupby('year')['Cash /Cashless Type'].value_counts().sort_values(ascending=False)"
   ]
  },
  {
   "cell_type": "code",
   "execution_count": 31,
   "metadata": {},
   "outputs": [
    {
     "data": {
      "text/plain": [
       "array([2015, 2014, 2012, 2013], dtype=int64)"
      ]
     },
     "execution_count": 31,
     "metadata": {},
     "output_type": "execute_result"
    }
   ],
   "source": [
    "filt_invoice_data.year.unique()"
   ]
  },
  {
   "cell_type": "code",
   "execution_count": null,
   "metadata": {},
   "outputs": [],
   "source": []
  }
 ],
 "metadata": {
  "kernelspec": {
   "display_name": "Python 3",
   "language": "python",
   "name": "python3"
  },
  "language_info": {
   "codemirror_mode": {
    "name": "ipython",
    "version": 3
   },
   "file_extension": ".py",
   "mimetype": "text/x-python",
   "name": "python",
   "nbconvert_exporter": "python",
   "pygments_lexer": "ipython3",
   "version": "3.7.3"
  }
 },
 "nbformat": 4,
 "nbformat_minor": 2
}
