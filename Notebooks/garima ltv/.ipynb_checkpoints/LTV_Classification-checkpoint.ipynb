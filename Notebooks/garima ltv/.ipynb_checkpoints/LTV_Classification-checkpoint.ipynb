{
 "cells": [
  {
   "cell_type": "code",
   "execution_count": 35,
   "metadata": {},
   "outputs": [],
   "source": [
    "import pandas as pd\n",
    "from sklearn.preprocessing import LabelEncoder,StandardScaler\n",
    "from sklearn.model_selection import train_test_split ,cross_val_score,ShuffleSplit\n",
    "from sklearn.tree import DecisionTreeClassifier\n",
    "from sklearn.ensemble import RandomForestClassifier\n",
    "from sklearn.cluster import KMeans\n",
    "from sklearn.metrics import accuracy_score,f1_score,classification_report,roc_auc_score\n",
    "import matplotlib.pyplot as plt\n",
    "import seaborn as sns"
   ]
  },
  {
   "cell_type": "code",
   "execution_count": 36,
   "metadata": {},
   "outputs": [],
   "source": [
    "data=pd.read_csv('master_df1.csv')"
   ]
  },
  {
   "cell_type": "code",
   "execution_count": 37,
   "metadata": {},
   "outputs": [
    {
     "data": {
      "text/html": [
       "<div>\n",
       "<style scoped>\n",
       "    .dataframe tbody tr th:only-of-type {\n",
       "        vertical-align: middle;\n",
       "    }\n",
       "\n",
       "    .dataframe tbody tr th {\n",
       "        vertical-align: top;\n",
       "    }\n",
       "\n",
       "    .dataframe thead th {\n",
       "        text-align: right;\n",
       "    }\n",
       "</style>\n",
       "<table border=\"1\" class=\"dataframe\">\n",
       "  <thead>\n",
       "    <tr style=\"text-align: right;\">\n",
       "      <th></th>\n",
       "      <th>Unnamed: 0</th>\n",
       "      <th>CITY</th>\n",
       "      <th>Cust Type</th>\n",
       "      <th>Customer No.</th>\n",
       "      <th>State</th>\n",
       "      <th>Gate Pass Time</th>\n",
       "      <th>Invoice No</th>\n",
       "      <th>KMs Reading</th>\n",
       "      <th>Labour Total</th>\n",
       "      <th>Make</th>\n",
       "      <th>...</th>\n",
       "      <th>Partner Type</th>\n",
       "      <th>Data Origin</th>\n",
       "      <th>Title</th>\n",
       "      <th>Regn State</th>\n",
       "      <th>Invoice Date-Invoice Time</th>\n",
       "      <th>JobCard Date-JobCard Time</th>\n",
       "      <th>Year</th>\n",
       "      <th>Month</th>\n",
       "      <th>Total_Expense</th>\n",
       "      <th>Job_duration(in hrs)</th>\n",
       "    </tr>\n",
       "  </thead>\n",
       "  <tbody>\n",
       "    <tr>\n",
       "      <th>0</th>\n",
       "      <td>0</td>\n",
       "      <td>thane</td>\n",
       "      <td>retail</td>\n",
       "      <td>67849</td>\n",
       "      <td>maharashtra</td>\n",
       "      <td>00:00:00</td>\n",
       "      <td>7005200002</td>\n",
       "      <td>49317</td>\n",
       "      <td>1203.14</td>\n",
       "      <td>general motors</td>\n",
       "      <td>...</td>\n",
       "      <td>Retail</td>\n",
       "      <td>Used Car Dealer</td>\n",
       "      <td>2.0</td>\n",
       "      <td>Karnataka</td>\n",
       "      <td>2015-01-02 11:30:36</td>\n",
       "      <td>2014-12-13 14:29:43</td>\n",
       "      <td>2015</td>\n",
       "      <td>1</td>\n",
       "      <td>6900.76</td>\n",
       "      <td>477.014722</td>\n",
       "    </tr>\n",
       "    <tr>\n",
       "      <th>1</th>\n",
       "      <td>1</td>\n",
       "      <td>thnae</td>\n",
       "      <td>retail</td>\n",
       "      <td>84419</td>\n",
       "      <td>maharashtra</td>\n",
       "      <td>00:00:00</td>\n",
       "      <td>7005200003</td>\n",
       "      <td>78584</td>\n",
       "      <td>804.26</td>\n",
       "      <td>tata</td>\n",
       "      <td>...</td>\n",
       "      <td>Retail</td>\n",
       "      <td>Camp-Outdoor</td>\n",
       "      <td>2.0</td>\n",
       "      <td>Maharashtra</td>\n",
       "      <td>2015-01-03 10:07:32</td>\n",
       "      <td>2015-01-02 14:12:18</td>\n",
       "      <td>2015</td>\n",
       "      <td>1</td>\n",
       "      <td>1198.32</td>\n",
       "      <td>19.920556</td>\n",
       "    </tr>\n",
       "    <tr>\n",
       "      <th>2</th>\n",
       "      <td>2</td>\n",
       "      <td>thane[w]</td>\n",
       "      <td>retail</td>\n",
       "      <td>81055</td>\n",
       "      <td>maharashtra</td>\n",
       "      <td>00:00:00</td>\n",
       "      <td>7005200004</td>\n",
       "      <td>33985</td>\n",
       "      <td>180.19</td>\n",
       "      <td>maruti</td>\n",
       "      <td>...</td>\n",
       "      <td>Retail</td>\n",
       "      <td>Ref-Customer</td>\n",
       "      <td>2.0</td>\n",
       "      <td>Andhra Pradesh</td>\n",
       "      <td>2015-01-03 11:12:57</td>\n",
       "      <td>2015-01-02 11:40:44</td>\n",
       "      <td>2015</td>\n",
       "      <td>1</td>\n",
       "      <td>286.09</td>\n",
       "      <td>23.536944</td>\n",
       "    </tr>\n",
       "    <tr>\n",
       "      <th>3</th>\n",
       "      <td>3</td>\n",
       "      <td>thnae</td>\n",
       "      <td>retail</td>\n",
       "      <td>84419</td>\n",
       "      <td>maharashtra</td>\n",
       "      <td>00:00:00</td>\n",
       "      <td>7005200005</td>\n",
       "      <td>78584</td>\n",
       "      <td>0.00</td>\n",
       "      <td>tata</td>\n",
       "      <td>...</td>\n",
       "      <td>Retail</td>\n",
       "      <td>Camp-Outdoor</td>\n",
       "      <td>2.0</td>\n",
       "      <td>Maharashtra</td>\n",
       "      <td>2015-01-03 11:40:44</td>\n",
       "      <td>2015-01-03 10:12:32</td>\n",
       "      <td>2015</td>\n",
       "      <td>1</td>\n",
       "      <td>0.00</td>\n",
       "      <td>1.470000</td>\n",
       "    </tr>\n",
       "    <tr>\n",
       "      <th>4</th>\n",
       "      <td>4</td>\n",
       "      <td>thane</td>\n",
       "      <td>retail</td>\n",
       "      <td>18980</td>\n",
       "      <td>maharashtra</td>\n",
       "      <td>00:00:00</td>\n",
       "      <td>7005200006</td>\n",
       "      <td>50057</td>\n",
       "      <td>1202.97</td>\n",
       "      <td>hyundai</td>\n",
       "      <td>...</td>\n",
       "      <td>Retail</td>\n",
       "      <td>Ref-Customer</td>\n",
       "      <td>2.0</td>\n",
       "      <td>Maharashtra</td>\n",
       "      <td>2015-01-03 12:07:17</td>\n",
       "      <td>2015-01-02 10:45:42</td>\n",
       "      <td>2015</td>\n",
       "      <td>1</td>\n",
       "      <td>4291.27</td>\n",
       "      <td>25.359722</td>\n",
       "    </tr>\n",
       "  </tbody>\n",
       "</table>\n",
       "<p>5 rows × 25 columns</p>\n",
       "</div>"
      ],
      "text/plain": [
       "   Unnamed: 0      CITY Cust Type Customer No.        State Gate Pass Time  \\\n",
       "0           0     thane    retail        67849  maharashtra       00:00:00   \n",
       "1           1     thnae    retail        84419  maharashtra       00:00:00   \n",
       "2           2  thane[w]    retail        81055  maharashtra       00:00:00   \n",
       "3           3     thnae    retail        84419  maharashtra       00:00:00   \n",
       "4           4     thane    retail        18980  maharashtra       00:00:00   \n",
       "\n",
       "   Invoice No  KMs Reading  Labour Total            Make  ... Partner Type  \\\n",
       "0  7005200002        49317       1203.14  general motors  ...       Retail   \n",
       "1  7005200003        78584        804.26            tata  ...       Retail   \n",
       "2  7005200004        33985        180.19          maruti  ...       Retail   \n",
       "3  7005200005        78584          0.00            tata  ...       Retail   \n",
       "4  7005200006        50057       1202.97         hyundai  ...       Retail   \n",
       "\n",
       "       Data Origin Title      Regn State Invoice Date-Invoice Time  \\\n",
       "0  Used Car Dealer   2.0       Karnataka       2015-01-02 11:30:36   \n",
       "1     Camp-Outdoor   2.0     Maharashtra       2015-01-03 10:07:32   \n",
       "2     Ref-Customer   2.0  Andhra Pradesh       2015-01-03 11:12:57   \n",
       "3     Camp-Outdoor   2.0     Maharashtra       2015-01-03 11:40:44   \n",
       "4     Ref-Customer   2.0     Maharashtra       2015-01-03 12:07:17   \n",
       "\n",
       "  JobCard Date-JobCard Time  Year  Month Total_Expense Job_duration(in hrs)  \n",
       "0       2014-12-13 14:29:43  2015      1       6900.76           477.014722  \n",
       "1       2015-01-02 14:12:18  2015      1       1198.32            19.920556  \n",
       "2       2015-01-02 11:40:44  2015      1        286.09            23.536944  \n",
       "3       2015-01-03 10:12:32  2015      1          0.00             1.470000  \n",
       "4       2015-01-02 10:45:42  2015      1       4291.27            25.359722  \n",
       "\n",
       "[5 rows x 25 columns]"
      ]
     },
     "execution_count": 37,
     "metadata": {},
     "output_type": "execute_result"
    }
   ],
   "source": [
    "data.head()"
   ]
  },
  {
   "cell_type": "code",
   "execution_count": 38,
   "metadata": {},
   "outputs": [
    {
     "data": {
      "text/plain": [
       "Index(['Unnamed: 0', 'CITY', 'Cust Type', 'Customer No.', 'State',\n",
       "       'Gate Pass Time', 'Invoice No', 'KMs Reading', 'Labour Total', 'Make',\n",
       "       'Model', 'Order Type', 'Plant', 'Print Status', 'Business Partner',\n",
       "       'Partner Type', 'Data Origin', 'Title', 'Regn State',\n",
       "       'Invoice Date-Invoice Time', 'JobCard Date-JobCard Time', 'Year',\n",
       "       'Month', 'Total_Expense', 'Job_duration(in hrs)'],\n",
       "      dtype='object')"
      ]
     },
     "execution_count": 38,
     "metadata": {},
     "output_type": "execute_result"
    }
   ],
   "source": [
    "data.columns"
   ]
  },
  {
   "cell_type": "code",
   "execution_count": 39,
   "metadata": {},
   "outputs": [
    {
     "data": {
      "text/html": [
       "<div>\n",
       "<style scoped>\n",
       "    .dataframe tbody tr th:only-of-type {\n",
       "        vertical-align: middle;\n",
       "    }\n",
       "\n",
       "    .dataframe tbody tr th {\n",
       "        vertical-align: top;\n",
       "    }\n",
       "\n",
       "    .dataframe thead th {\n",
       "        text-align: right;\n",
       "    }\n",
       "</style>\n",
       "<table border=\"1\" class=\"dataframe\">\n",
       "  <thead>\n",
       "    <tr style=\"text-align: right;\">\n",
       "      <th></th>\n",
       "      <th>Unnamed: 0</th>\n",
       "      <th>CITY</th>\n",
       "      <th>Cust Type</th>\n",
       "      <th>Customer No.</th>\n",
       "      <th>State</th>\n",
       "      <th>Gate Pass Time</th>\n",
       "      <th>Invoice No</th>\n",
       "      <th>KMs Reading</th>\n",
       "      <th>Labour Total</th>\n",
       "      <th>Make</th>\n",
       "      <th>...</th>\n",
       "      <th>Partner Type</th>\n",
       "      <th>Data Origin</th>\n",
       "      <th>Title</th>\n",
       "      <th>Regn State</th>\n",
       "      <th>Invoice Date-Invoice Time</th>\n",
       "      <th>JobCard Date-JobCard Time</th>\n",
       "      <th>Year</th>\n",
       "      <th>Month</th>\n",
       "      <th>Total_Expense</th>\n",
       "      <th>Job_duration(in hrs)</th>\n",
       "    </tr>\n",
       "  </thead>\n",
       "  <tbody>\n",
       "    <tr>\n",
       "      <th>0</th>\n",
       "      <td>0</td>\n",
       "      <td>thane</td>\n",
       "      <td>retail</td>\n",
       "      <td>67849</td>\n",
       "      <td>maharashtra</td>\n",
       "      <td>00:00:00</td>\n",
       "      <td>7005200002</td>\n",
       "      <td>49317</td>\n",
       "      <td>1203.14</td>\n",
       "      <td>general motors</td>\n",
       "      <td>...</td>\n",
       "      <td>Retail</td>\n",
       "      <td>Used Car Dealer</td>\n",
       "      <td>2.0</td>\n",
       "      <td>Karnataka</td>\n",
       "      <td>2015-01-02 11:30:36</td>\n",
       "      <td>2014-12-13 14:29:43</td>\n",
       "      <td>2015</td>\n",
       "      <td>1</td>\n",
       "      <td>6900.76</td>\n",
       "      <td>477.014722</td>\n",
       "    </tr>\n",
       "    <tr>\n",
       "      <th>1</th>\n",
       "      <td>1</td>\n",
       "      <td>thnae</td>\n",
       "      <td>retail</td>\n",
       "      <td>84419</td>\n",
       "      <td>maharashtra</td>\n",
       "      <td>00:00:00</td>\n",
       "      <td>7005200003</td>\n",
       "      <td>78584</td>\n",
       "      <td>804.26</td>\n",
       "      <td>tata</td>\n",
       "      <td>...</td>\n",
       "      <td>Retail</td>\n",
       "      <td>Camp-Outdoor</td>\n",
       "      <td>2.0</td>\n",
       "      <td>Maharashtra</td>\n",
       "      <td>2015-01-03 10:07:32</td>\n",
       "      <td>2015-01-02 14:12:18</td>\n",
       "      <td>2015</td>\n",
       "      <td>1</td>\n",
       "      <td>1198.32</td>\n",
       "      <td>19.920556</td>\n",
       "    </tr>\n",
       "    <tr>\n",
       "      <th>2</th>\n",
       "      <td>2</td>\n",
       "      <td>thane[w]</td>\n",
       "      <td>retail</td>\n",
       "      <td>81055</td>\n",
       "      <td>maharashtra</td>\n",
       "      <td>00:00:00</td>\n",
       "      <td>7005200004</td>\n",
       "      <td>33985</td>\n",
       "      <td>180.19</td>\n",
       "      <td>maruti</td>\n",
       "      <td>...</td>\n",
       "      <td>Retail</td>\n",
       "      <td>Ref-Customer</td>\n",
       "      <td>2.0</td>\n",
       "      <td>Andhra Pradesh</td>\n",
       "      <td>2015-01-03 11:12:57</td>\n",
       "      <td>2015-01-02 11:40:44</td>\n",
       "      <td>2015</td>\n",
       "      <td>1</td>\n",
       "      <td>286.09</td>\n",
       "      <td>23.536944</td>\n",
       "    </tr>\n",
       "    <tr>\n",
       "      <th>3</th>\n",
       "      <td>3</td>\n",
       "      <td>thnae</td>\n",
       "      <td>retail</td>\n",
       "      <td>84419</td>\n",
       "      <td>maharashtra</td>\n",
       "      <td>00:00:00</td>\n",
       "      <td>7005200005</td>\n",
       "      <td>78584</td>\n",
       "      <td>0.00</td>\n",
       "      <td>tata</td>\n",
       "      <td>...</td>\n",
       "      <td>Retail</td>\n",
       "      <td>Camp-Outdoor</td>\n",
       "      <td>2.0</td>\n",
       "      <td>Maharashtra</td>\n",
       "      <td>2015-01-03 11:40:44</td>\n",
       "      <td>2015-01-03 10:12:32</td>\n",
       "      <td>2015</td>\n",
       "      <td>1</td>\n",
       "      <td>0.00</td>\n",
       "      <td>1.470000</td>\n",
       "    </tr>\n",
       "    <tr>\n",
       "      <th>4</th>\n",
       "      <td>4</td>\n",
       "      <td>thane</td>\n",
       "      <td>retail</td>\n",
       "      <td>18980</td>\n",
       "      <td>maharashtra</td>\n",
       "      <td>00:00:00</td>\n",
       "      <td>7005200006</td>\n",
       "      <td>50057</td>\n",
       "      <td>1202.97</td>\n",
       "      <td>hyundai</td>\n",
       "      <td>...</td>\n",
       "      <td>Retail</td>\n",
       "      <td>Ref-Customer</td>\n",
       "      <td>2.0</td>\n",
       "      <td>Maharashtra</td>\n",
       "      <td>2015-01-03 12:07:17</td>\n",
       "      <td>2015-01-02 10:45:42</td>\n",
       "      <td>2015</td>\n",
       "      <td>1</td>\n",
       "      <td>4291.27</td>\n",
       "      <td>25.359722</td>\n",
       "    </tr>\n",
       "  </tbody>\n",
       "</table>\n",
       "<p>5 rows × 25 columns</p>\n",
       "</div>"
      ],
      "text/plain": [
       "   Unnamed: 0      CITY Cust Type Customer No.        State Gate Pass Time  \\\n",
       "0           0     thane    retail        67849  maharashtra       00:00:00   \n",
       "1           1     thnae    retail        84419  maharashtra       00:00:00   \n",
       "2           2  thane[w]    retail        81055  maharashtra       00:00:00   \n",
       "3           3     thnae    retail        84419  maharashtra       00:00:00   \n",
       "4           4     thane    retail        18980  maharashtra       00:00:00   \n",
       "\n",
       "   Invoice No  KMs Reading  Labour Total            Make  ... Partner Type  \\\n",
       "0  7005200002        49317       1203.14  general motors  ...       Retail   \n",
       "1  7005200003        78584        804.26            tata  ...       Retail   \n",
       "2  7005200004        33985        180.19          maruti  ...       Retail   \n",
       "3  7005200005        78584          0.00            tata  ...       Retail   \n",
       "4  7005200006        50057       1202.97         hyundai  ...       Retail   \n",
       "\n",
       "       Data Origin Title      Regn State Invoice Date-Invoice Time  \\\n",
       "0  Used Car Dealer   2.0       Karnataka       2015-01-02 11:30:36   \n",
       "1     Camp-Outdoor   2.0     Maharashtra       2015-01-03 10:07:32   \n",
       "2     Ref-Customer   2.0  Andhra Pradesh       2015-01-03 11:12:57   \n",
       "3     Camp-Outdoor   2.0     Maharashtra       2015-01-03 11:40:44   \n",
       "4     Ref-Customer   2.0     Maharashtra       2015-01-03 12:07:17   \n",
       "\n",
       "  JobCard Date-JobCard Time  Year  Month Total_Expense Job_duration(in hrs)  \n",
       "0       2014-12-13 14:29:43  2015      1       6900.76           477.014722  \n",
       "1       2015-01-02 14:12:18  2015      1       1198.32            19.920556  \n",
       "2       2015-01-02 11:40:44  2015      1        286.09            23.536944  \n",
       "3       2015-01-03 10:12:32  2015      1          0.00             1.470000  \n",
       "4       2015-01-02 10:45:42  2015      1       4291.27            25.359722  \n",
       "\n",
       "[5 rows x 25 columns]"
      ]
     },
     "execution_count": 39,
     "metadata": {},
     "output_type": "execute_result"
    }
   ],
   "source": [
    "data.head()"
   ]
  },
  {
   "cell_type": "code",
   "execution_count": 40,
   "metadata": {},
   "outputs": [
    {
     "data": {
      "text/html": [
       "<div>\n",
       "<style scoped>\n",
       "    .dataframe tbody tr th:only-of-type {\n",
       "        vertical-align: middle;\n",
       "    }\n",
       "\n",
       "    .dataframe tbody tr th {\n",
       "        vertical-align: top;\n",
       "    }\n",
       "\n",
       "    .dataframe thead th {\n",
       "        text-align: right;\n",
       "    }\n",
       "</style>\n",
       "<table border=\"1\" class=\"dataframe\">\n",
       "  <thead>\n",
       "    <tr style=\"text-align: right;\">\n",
       "      <th></th>\n",
       "      <th>Unnamed: 0</th>\n",
       "      <th>CITY</th>\n",
       "      <th>Cust Type</th>\n",
       "      <th>Customer No.</th>\n",
       "      <th>State</th>\n",
       "      <th>Gate Pass Time</th>\n",
       "      <th>Invoice No</th>\n",
       "      <th>KMs Reading</th>\n",
       "      <th>Labour Total</th>\n",
       "      <th>Make</th>\n",
       "      <th>...</th>\n",
       "      <th>Partner Type</th>\n",
       "      <th>Data Origin</th>\n",
       "      <th>Title</th>\n",
       "      <th>Regn State</th>\n",
       "      <th>Invoice Date-Invoice Time</th>\n",
       "      <th>JobCard Date-JobCard Time</th>\n",
       "      <th>Year</th>\n",
       "      <th>Month</th>\n",
       "      <th>Total_Expense</th>\n",
       "      <th>Job_duration(in hrs)</th>\n",
       "    </tr>\n",
       "  </thead>\n",
       "  <tbody>\n",
       "    <tr>\n",
       "      <th>351463</th>\n",
       "      <td>358893</td>\n",
       "      <td>chennai</td>\n",
       "      <td>retail</td>\n",
       "      <td>182085</td>\n",
       "      <td>tamil nadu</td>\n",
       "      <td>00:00:00</td>\n",
       "      <td>7167000988</td>\n",
       "      <td>62001</td>\n",
       "      <td>0.0</td>\n",
       "      <td>maruti</td>\n",
       "      <td>...</td>\n",
       "      <td>Retail</td>\n",
       "      <td>Camp-Outdoor</td>\n",
       "      <td>1.0</td>\n",
       "      <td>Tamil Nadu</td>\n",
       "      <td>2016-05-02 15:12:11</td>\n",
       "      <td>2016-05-02 15:12:44</td>\n",
       "      <td>2016</td>\n",
       "      <td>5</td>\n",
       "      <td>0.0</td>\n",
       "      <td>-0.009167</td>\n",
       "    </tr>\n",
       "  </tbody>\n",
       "</table>\n",
       "<p>1 rows × 25 columns</p>\n",
       "</div>"
      ],
      "text/plain": [
       "        Unnamed: 0     CITY Cust Type Customer No.       State Gate Pass Time  \\\n",
       "351463      358893  chennai    retail       182085  tamil nadu       00:00:00   \n",
       "\n",
       "        Invoice No  KMs Reading  Labour Total    Make  ... Partner Type  \\\n",
       "351463  7167000988        62001           0.0  maruti  ...       Retail   \n",
       "\n",
       "         Data Origin Title  Regn State Invoice Date-Invoice Time  \\\n",
       "351463  Camp-Outdoor   1.0  Tamil Nadu       2016-05-02 15:12:11   \n",
       "\n",
       "       JobCard Date-JobCard Time  Year  Month Total_Expense  \\\n",
       "351463       2016-05-02 15:12:44  2016      5           0.0   \n",
       "\n",
       "       Job_duration(in hrs)  \n",
       "351463            -0.009167  \n",
       "\n",
       "[1 rows x 25 columns]"
      ]
     },
     "execution_count": 40,
     "metadata": {},
     "output_type": "execute_result"
    }
   ],
   "source": [
    "\n",
    "data[data['Job_duration(in hrs)']<0]"
   ]
  },
  {
   "cell_type": "code",
   "execution_count": 41,
   "metadata": {},
   "outputs": [],
   "source": [
    "data.drop(index=351463,axis=0,inplace=True)"
   ]
  },
  {
   "cell_type": "code",
   "execution_count": 42,
   "metadata": {},
   "outputs": [
    {
     "data": {
      "text/plain": [
       "(479547, 25)"
      ]
     },
     "execution_count": 42,
     "metadata": {},
     "output_type": "execute_result"
    }
   ],
   "source": [
    "data.shape"
   ]
  },
  {
   "cell_type": "code",
   "execution_count": 43,
   "metadata": {},
   "outputs": [
    {
     "data": {
      "text/plain": [
       "Index(['Unnamed: 0', 'CITY', 'Cust Type', 'Customer No.', 'State',\n",
       "       'Gate Pass Time', 'Invoice No', 'KMs Reading', 'Labour Total', 'Make',\n",
       "       'Model', 'Order Type', 'Plant', 'Print Status', 'Business Partner',\n",
       "       'Partner Type', 'Data Origin', 'Title', 'Regn State',\n",
       "       'Invoice Date-Invoice Time', 'JobCard Date-JobCard Time', 'Year',\n",
       "       'Month', 'Total_Expense', 'Job_duration(in hrs)'],\n",
       "      dtype='object')"
      ]
     },
     "execution_count": 43,
     "metadata": {},
     "output_type": "execute_result"
    }
   ],
   "source": [
    "data.columns"
   ]
  },
  {
   "cell_type": "code",
   "execution_count": 44,
   "metadata": {},
   "outputs": [
    {
     "data": {
      "text/html": [
       "<div>\n",
       "<style scoped>\n",
       "    .dataframe tbody tr th:only-of-type {\n",
       "        vertical-align: middle;\n",
       "    }\n",
       "\n",
       "    .dataframe tbody tr th {\n",
       "        vertical-align: top;\n",
       "    }\n",
       "\n",
       "    .dataframe thead th {\n",
       "        text-align: right;\n",
       "    }\n",
       "</style>\n",
       "<table border=\"1\" class=\"dataframe\">\n",
       "  <thead>\n",
       "    <tr style=\"text-align: right;\">\n",
       "      <th></th>\n",
       "      <th>Make</th>\n",
       "      <th>Model</th>\n",
       "      <th>CITY</th>\n",
       "      <th>Order Type</th>\n",
       "      <th>Invoice No</th>\n",
       "      <th>Total_Expense</th>\n",
       "      <th>Job_duration(in hrs)</th>\n",
       "      <th>LTV</th>\n",
       "    </tr>\n",
       "  </thead>\n",
       "  <tbody>\n",
       "    <tr>\n",
       "      <th>0</th>\n",
       "      <td>audi</td>\n",
       "      <td>a4</td>\n",
       "      <td>a nagar</td>\n",
       "      <td>running repairs</td>\n",
       "      <td>1</td>\n",
       "      <td>3508.88</td>\n",
       "      <td>0.268056</td>\n",
       "      <td>3508.88</td>\n",
       "    </tr>\n",
       "    <tr>\n",
       "      <th>1</th>\n",
       "      <td>audi</td>\n",
       "      <td>a4</td>\n",
       "      <td>bangalore</td>\n",
       "      <td>running repairs</td>\n",
       "      <td>1</td>\n",
       "      <td>43669.84</td>\n",
       "      <td>28.306389</td>\n",
       "      <td>43669.84</td>\n",
       "    </tr>\n",
       "    <tr>\n",
       "      <th>2</th>\n",
       "      <td>audi</td>\n",
       "      <td>a4</td>\n",
       "      <td>bbsr</td>\n",
       "      <td>running repairs</td>\n",
       "      <td>1</td>\n",
       "      <td>330.50</td>\n",
       "      <td>0.056944</td>\n",
       "      <td>330.50</td>\n",
       "    </tr>\n",
       "    <tr>\n",
       "      <th>3</th>\n",
       "      <td>audi</td>\n",
       "      <td>a4</td>\n",
       "      <td>bengaluru</td>\n",
       "      <td>running repairs</td>\n",
       "      <td>1</td>\n",
       "      <td>0.00</td>\n",
       "      <td>839.515278</td>\n",
       "      <td>0.00</td>\n",
       "    </tr>\n",
       "    <tr>\n",
       "      <th>4</th>\n",
       "      <td>audi</td>\n",
       "      <td>a4</td>\n",
       "      <td>bhayander</td>\n",
       "      <td>running repairs</td>\n",
       "      <td>1</td>\n",
       "      <td>750.25</td>\n",
       "      <td>0.140278</td>\n",
       "      <td>750.25</td>\n",
       "    </tr>\n",
       "  </tbody>\n",
       "</table>\n",
       "</div>"
      ],
      "text/plain": [
       "   Make Model       CITY       Order Type  Invoice No  Total_Expense  \\\n",
       "0  audi    a4    a nagar  running repairs           1        3508.88   \n",
       "1  audi    a4  bangalore  running repairs           1       43669.84   \n",
       "2  audi    a4       bbsr  running repairs           1         330.50   \n",
       "3  audi    a4  bengaluru  running repairs           1           0.00   \n",
       "4  audi    a4  bhayander  running repairs           1         750.25   \n",
       "\n",
       "   Job_duration(in hrs)       LTV  \n",
       "0              0.268056   3508.88  \n",
       "1             28.306389  43669.84  \n",
       "2              0.056944    330.50  \n",
       "3            839.515278      0.00  \n",
       "4              0.140278    750.25  "
      ]
     },
     "execution_count": 44,
     "metadata": {},
     "output_type": "execute_result"
    }
   ],
   "source": [
    "Make_freq=data.groupby([\"Make\",\"Model\",\"CITY\",'Order Type']).agg({\"Invoice No\":'count',\"Total_Expense\":'mean',\"Job_duration(in hrs)\":'mean'})\n",
    "Make_freq=Make_freq.reset_index()\n",
    "\n",
    "Make_freq.head()\n",
    "\n",
    "ltv_make_model_r=Make_freq.copy()\n",
    "ltv_make_model_r[\"LTV\"] = ltv_make_model_r[\"Invoice No\"] * ltv_make_model_r[\"Total_Expense\"]\n",
    "ltv_make_model_r.head()"
   ]
  },
  {
   "cell_type": "code",
   "execution_count": 45,
   "metadata": {},
   "outputs": [
    {
     "data": {
      "text/plain": [
       "(91363, 8)"
      ]
     },
     "execution_count": 45,
     "metadata": {},
     "output_type": "execute_result"
    }
   ],
   "source": [
    "ltv_make_model_r.shape"
   ]
  },
  {
   "cell_type": "code",
   "execution_count": 46,
   "metadata": {},
   "outputs": [],
   "source": [
    "df=ltv_make_model_r[ltv_make_model_r['LTV'] !=0]"
   ]
  },
  {
   "cell_type": "code",
   "execution_count": 47,
   "metadata": {},
   "outputs": [
    {
     "data": {
      "image/png": "[encoded data removed]",
      "text/plain": [
       "<Figure size 432x288 with 1 Axes>"
      ]
     },
     "metadata": {
      "needs_background": "light"
     },
     "output_type": "display_data"
    }
   ],
   "source": [
    "sns.distplot(df['LTV'])\n",
    "plt.show()"
   ]
  },
  {
   "cell_type": "code",
   "execution_count": 48,
   "metadata": {},
   "outputs": [
    {
     "data": {
      "text/plain": [
       "(84292, 8)"
      ]
     },
     "execution_count": 48,
     "metadata": {},
     "output_type": "execute_result"
    }
   ],
   "source": [
    "df.shape"
   ]
  },
  {
   "cell_type": "code",
   "execution_count": 49,
   "metadata": {},
   "outputs": [
    {
     "name": "stdout",
     "output_type": "stream",
     "text": [
      "minimum LTV :- 0.01\n",
      "maximum LTV :- 16041460.490000004\n",
      "mean LTV :- 42209.36212095896\n"
     ]
    }
   ],
   "source": [
    "print(\"minimum LTV :-\",df['LTV'].min())\n",
    "print(\"maximum LTV :-\",df['LTV'].max())\n",
    "print(\"mean LTV :-\",df['LTV'].mean())"
   ]
  },
  {
   "cell_type": "code",
   "execution_count": 51,
   "metadata": {},
   "outputs": [
    {
     "name": "stdout",
     "output_type": "stream",
     "text": [
      "0.05 quantile :- 201.0\n",
      "0.25 quantile :- 1715.045\n",
      "0.50 quantile :- 7340.590000000001\n",
      "0.75 quantile :- 24398.36\n",
      "0.95 quantile :- 150804.96899999987\n",
      "minimum LTV :- 0.01\n",
      "maximum LTV :- 16041460.490000004\n",
      "mean LTV :- 42209.36212095896\n"
     ]
    }
   ],
   "source": [
    "print(\"0.05 quantile :-\",df['LTV'].quantile(0.05))\n",
    "print(\"0.25 quantile :-\",df['LTV'].quantile(0.25))\n",
    "print(\"0.50 quantile :-\",df['LTV'].quantile(0.50))\n",
    "print(\"0.75 quantile :-\",df['LTV'].quantile(0.75))\n",
    "print(\"0.95 quantile :-\",df['LTV'].quantile(0.95))\n",
    "print(\"minimum LTV :-\",df['LTV'].min())\n",
    "print(\"maximum LTV :-\",df['LTV'].max())\n",
    "print(\"mean LTV :-\",df['LTV'].mean())"
   ]
  },
  {
   "cell_type": "code",
   "execution_count": 55,
   "metadata": {},
   "outputs": [
    {
     "name": "stdout",
     "output_type": "stream",
     "text": [
      "(42146, 9)\n",
      "(21073, 9)\n",
      "(84292, 9)\n"
     ]
    }
   ],
   "source": [
    "print(df[df[\"LTV\"]<=7340.590000000001].shape)\n",
    "print(df[(df[\"LTV\"]>7340.590000000001)&(df[\"LTV\"]<=24398.36)].shape)\n",
    "print(df[df[\"LTV\"]<=16041460.490000004].shape)"
   ]
  },
  {
   "cell_type": "code",
   "execution_count": 56,
   "metadata": {},
   "outputs": [
    {
     "name": "stderr",
     "output_type": "stream",
     "text": [
      "C:\\Users\\USER\\anaconda3\\lib\\site-packages\\ipykernel_launcher.py:3: SettingWithCopyWarning: \n",
      "A value is trying to be set on a copy of a slice from a DataFrame.\n",
      "Try using .loc[row_indexer,col_indexer] = value instead\n",
      "\n",
      "See the caveats in the documentation: https://pandas.pydata.org/pandas-docs/stable/user_guide/indexing.html#returning-a-view-versus-a-copy\n",
      "  This is separate from the ipykernel package so we can avoid doing imports until\n"
     ]
    }
   ],
   "source": [
    "bins=[-1,7340.590000000001,24398.36,16041460.490000004]\n",
    "labels=[\"Low\",\"Medium\",\"High\"]\n",
    "df[\"LTV Binned\"]=pd.cut(df[\"LTV\"], bins=bins, labels=labels)"
   ]
  },
  {
   "cell_type": "code",
   "execution_count": 57,
   "metadata": {},
   "outputs": [
    {
     "data": {
      "text/html": [
       "<div>\n",
       "<style scoped>\n",
       "    .dataframe tbody tr th:only-of-type {\n",
       "        vertical-align: middle;\n",
       "    }\n",
       "\n",
       "    .dataframe tbody tr th {\n",
       "        vertical-align: top;\n",
       "    }\n",
       "\n",
       "    .dataframe thead th {\n",
       "        text-align: right;\n",
       "    }\n",
       "</style>\n",
       "<table border=\"1\" class=\"dataframe\">\n",
       "  <thead>\n",
       "    <tr style=\"text-align: right;\">\n",
       "      <th></th>\n",
       "      <th>Make</th>\n",
       "      <th>Model</th>\n",
       "      <th>CITY</th>\n",
       "      <th>Order Type</th>\n",
       "      <th>Invoice No</th>\n",
       "      <th>Total_Expense</th>\n",
       "      <th>Job_duration(in hrs)</th>\n",
       "      <th>LTV</th>\n",
       "      <th>LTV Binned</th>\n",
       "    </tr>\n",
       "  </thead>\n",
       "  <tbody>\n",
       "    <tr>\n",
       "      <th>0</th>\n",
       "      <td>audi</td>\n",
       "      <td>a4</td>\n",
       "      <td>a nagar</td>\n",
       "      <td>running repairs</td>\n",
       "      <td>1</td>\n",
       "      <td>3508.88</td>\n",
       "      <td>0.268056</td>\n",
       "      <td>3508.88</td>\n",
       "      <td>Low</td>\n",
       "    </tr>\n",
       "    <tr>\n",
       "      <th>1</th>\n",
       "      <td>audi</td>\n",
       "      <td>a4</td>\n",
       "      <td>bangalore</td>\n",
       "      <td>running repairs</td>\n",
       "      <td>1</td>\n",
       "      <td>43669.84</td>\n",
       "      <td>28.306389</td>\n",
       "      <td>43669.84</td>\n",
       "      <td>High</td>\n",
       "    </tr>\n",
       "    <tr>\n",
       "      <th>2</th>\n",
       "      <td>audi</td>\n",
       "      <td>a4</td>\n",
       "      <td>bbsr</td>\n",
       "      <td>running repairs</td>\n",
       "      <td>1</td>\n",
       "      <td>330.50</td>\n",
       "      <td>0.056944</td>\n",
       "      <td>330.50</td>\n",
       "      <td>Low</td>\n",
       "    </tr>\n",
       "    <tr>\n",
       "      <th>4</th>\n",
       "      <td>audi</td>\n",
       "      <td>a4</td>\n",
       "      <td>bhayander</td>\n",
       "      <td>running repairs</td>\n",
       "      <td>1</td>\n",
       "      <td>750.25</td>\n",
       "      <td>0.140278</td>\n",
       "      <td>750.25</td>\n",
       "      <td>Low</td>\n",
       "    </tr>\n",
       "    <tr>\n",
       "      <th>5</th>\n",
       "      <td>audi</td>\n",
       "      <td>a4</td>\n",
       "      <td>cbe</td>\n",
       "      <td>running repairs</td>\n",
       "      <td>1</td>\n",
       "      <td>1000.40</td>\n",
       "      <td>4.052222</td>\n",
       "      <td>1000.40</td>\n",
       "      <td>Low</td>\n",
       "    </tr>\n",
       "  </tbody>\n",
       "</table>\n",
       "</div>"
      ],
      "text/plain": [
       "   Make Model       CITY       Order Type  Invoice No  Total_Expense  \\\n",
       "0  audi    a4    a nagar  running repairs           1        3508.88   \n",
       "1  audi    a4  bangalore  running repairs           1       43669.84   \n",
       "2  audi    a4       bbsr  running repairs           1         330.50   \n",
       "4  audi    a4  bhayander  running repairs           1         750.25   \n",
       "5  audi    a4        cbe  running repairs           1        1000.40   \n",
       "\n",
       "   Job_duration(in hrs)       LTV LTV Binned  \n",
       "0              0.268056   3508.88        Low  \n",
       "1             28.306389  43669.84       High  \n",
       "2              0.056944    330.50        Low  \n",
       "4              0.140278    750.25        Low  \n",
       "5              4.052222   1000.40        Low  "
      ]
     },
     "execution_count": 57,
     "metadata": {},
     "output_type": "execute_result"
    }
   ],
   "source": [
    "df.head()"
   ]
  },
  {
   "cell_type": "code",
   "execution_count": 58,
   "metadata": {},
   "outputs": [
    {
     "data": {
      "image/png": "[encoded data removed]",
      "text/plain": [
       "<Figure size 432x288 with 1 Axes>"
      ]
     },
     "metadata": {},
     "output_type": "display_data"
    }
   ],
   "source": [
    "\n",
    "df['LTV Binned'].value_counts(sort=False).plot.pie()\n",
    "plt.show()"
   ]
  },
  {
   "cell_type": "code",
   "execution_count": 61,
   "metadata": {},
   "outputs": [
    {
     "name": "stderr",
     "output_type": "stream",
     "text": [
      "C:\\Users\\USER\\anaconda3\\lib\\site-packages\\ipykernel_launcher.py:2: SettingWithCopyWarning: \n",
      "A value is trying to be set on a copy of a slice from a DataFrame.\n",
      "Try using .loc[row_indexer,col_indexer] = value instead\n",
      "\n",
      "See the caveats in the documentation: https://pandas.pydata.org/pandas-docs/stable/user_guide/indexing.html#returning-a-view-versus-a-copy\n",
      "  \n",
      "C:\\Users\\USER\\anaconda3\\lib\\site-packages\\ipykernel_launcher.py:3: SettingWithCopyWarning: \n",
      "A value is trying to be set on a copy of a slice from a DataFrame.\n",
      "Try using .loc[row_indexer,col_indexer] = value instead\n",
      "\n",
      "See the caveats in the documentation: https://pandas.pydata.org/pandas-docs/stable/user_guide/indexing.html#returning-a-view-versus-a-copy\n",
      "  This is separate from the ipykernel package so we can avoid doing imports until\n",
      "C:\\Users\\USER\\anaconda3\\lib\\site-packages\\ipykernel_launcher.py:4: SettingWithCopyWarning: \n",
      "A value is trying to be set on a copy of a slice from a DataFrame.\n",
      "Try using .loc[row_indexer,col_indexer] = value instead\n",
      "\n",
      "See the caveats in the documentation: https://pandas.pydata.org/pandas-docs/stable/user_guide/indexing.html#returning-a-view-versus-a-copy\n",
      "  after removing the cwd from sys.path.\n",
      "C:\\Users\\USER\\anaconda3\\lib\\site-packages\\ipykernel_launcher.py:5: SettingWithCopyWarning: \n",
      "A value is trying to be set on a copy of a slice from a DataFrame.\n",
      "Try using .loc[row_indexer,col_indexer] = value instead\n",
      "\n",
      "See the caveats in the documentation: https://pandas.pydata.org/pandas-docs/stable/user_guide/indexing.html#returning-a-view-versus-a-copy\n",
      "  \"\"\"\n"
     ]
    }
   ],
   "source": [
    "le=LabelEncoder()\n",
    "df[\"Make\"]=le.fit_transform(df[\"Make\"])\n",
    "df[\"Model\"]=le.fit_transform(df[\"Model\"])\n",
    "df[\"Order Type\"]=le.fit_transform(df[\"Order Type\"])\n",
    "df[\"CITY\"]=le.fit_transform(df[\"CITY\"])"
   ]
  },
  {
   "cell_type": "code",
   "execution_count": 62,
   "metadata": {},
   "outputs": [
    {
     "data": {
      "text/html": [
       "<div>\n",
       "<style scoped>\n",
       "    .dataframe tbody tr th:only-of-type {\n",
       "        vertical-align: middle;\n",
       "    }\n",
       "\n",
       "    .dataframe tbody tr th {\n",
       "        vertical-align: top;\n",
       "    }\n",
       "\n",
       "    .dataframe thead th {\n",
       "        text-align: right;\n",
       "    }\n",
       "</style>\n",
       "<table border=\"1\" class=\"dataframe\">\n",
       "  <thead>\n",
       "    <tr style=\"text-align: right;\">\n",
       "      <th></th>\n",
       "      <th>Make</th>\n",
       "      <th>Model</th>\n",
       "      <th>CITY</th>\n",
       "      <th>Order Type</th>\n",
       "      <th>Invoice No</th>\n",
       "      <th>Total_Expense</th>\n",
       "      <th>Job_duration(in hrs)</th>\n",
       "      <th>LTV</th>\n",
       "      <th>LTV Binned</th>\n",
       "    </tr>\n",
       "  </thead>\n",
       "  <tbody>\n",
       "    <tr>\n",
       "      <th>0</th>\n",
       "      <td>0</td>\n",
       "      <td>8</td>\n",
       "      <td>381</td>\n",
       "      <td>4</td>\n",
       "      <td>1</td>\n",
       "      <td>3508.88</td>\n",
       "      <td>0.268056</td>\n",
       "      <td>3508.88</td>\n",
       "      <td>Low</td>\n",
       "    </tr>\n",
       "    <tr>\n",
       "      <th>1</th>\n",
       "      <td>0</td>\n",
       "      <td>8</td>\n",
       "      <td>1592</td>\n",
       "      <td>4</td>\n",
       "      <td>1</td>\n",
       "      <td>43669.84</td>\n",
       "      <td>28.306389</td>\n",
       "      <td>43669.84</td>\n",
       "      <td>High</td>\n",
       "    </tr>\n",
       "    <tr>\n",
       "      <th>2</th>\n",
       "      <td>0</td>\n",
       "      <td>8</td>\n",
       "      <td>1776</td>\n",
       "      <td>4</td>\n",
       "      <td>1</td>\n",
       "      <td>330.50</td>\n",
       "      <td>0.056944</td>\n",
       "      <td>330.50</td>\n",
       "      <td>Low</td>\n",
       "    </tr>\n",
       "    <tr>\n",
       "      <th>4</th>\n",
       "      <td>0</td>\n",
       "      <td>8</td>\n",
       "      <td>2033</td>\n",
       "      <td>4</td>\n",
       "      <td>1</td>\n",
       "      <td>750.25</td>\n",
       "      <td>0.140278</td>\n",
       "      <td>750.25</td>\n",
       "      <td>Low</td>\n",
       "    </tr>\n",
       "    <tr>\n",
       "      <th>5</th>\n",
       "      <td>0</td>\n",
       "      <td>8</td>\n",
       "      <td>2471</td>\n",
       "      <td>4</td>\n",
       "      <td>1</td>\n",
       "      <td>1000.40</td>\n",
       "      <td>4.052222</td>\n",
       "      <td>1000.40</td>\n",
       "      <td>Low</td>\n",
       "    </tr>\n",
       "  </tbody>\n",
       "</table>\n",
       "</div>"
      ],
      "text/plain": [
       "   Make  Model  CITY  Order Type  Invoice No  Total_Expense  \\\n",
       "0     0      8   381           4           1        3508.88   \n",
       "1     0      8  1592           4           1       43669.84   \n",
       "2     0      8  1776           4           1         330.50   \n",
       "4     0      8  2033           4           1         750.25   \n",
       "5     0      8  2471           4           1        1000.40   \n",
       "\n",
       "   Job_duration(in hrs)       LTV LTV Binned  \n",
       "0              0.268056   3508.88        Low  \n",
       "1             28.306389  43669.84       High  \n",
       "2              0.056944    330.50        Low  \n",
       "4              0.140278    750.25        Low  \n",
       "5              4.052222   1000.40        Low  "
      ]
     },
     "execution_count": 62,
     "metadata": {},
     "output_type": "execute_result"
    }
   ],
   "source": [
    "df.head()"
   ]
  },
  {
   "cell_type": "code",
   "execution_count": 63,
   "metadata": {},
   "outputs": [],
   "source": [
    "X=df.drop([\"LTV\",\"LTV Binned\",\"Invoice No\"],1)\n",
    "y=df[\"LTV Binned\"]"
   ]
  },
  {
   "cell_type": "code",
   "execution_count": 64,
   "metadata": {},
   "outputs": [
    {
     "data": {
      "text/html": [
       "<div>\n",
       "<style scoped>\n",
       "    .dataframe tbody tr th:only-of-type {\n",
       "        vertical-align: middle;\n",
       "    }\n",
       "\n",
       "    .dataframe tbody tr th {\n",
       "        vertical-align: top;\n",
       "    }\n",
       "\n",
       "    .dataframe thead th {\n",
       "        text-align: right;\n",
       "    }\n",
       "</style>\n",
       "<table border=\"1\" class=\"dataframe\">\n",
       "  <thead>\n",
       "    <tr style=\"text-align: right;\">\n",
       "      <th></th>\n",
       "      <th>Make</th>\n",
       "      <th>Model</th>\n",
       "      <th>CITY</th>\n",
       "      <th>Order Type</th>\n",
       "      <th>Total_Expense</th>\n",
       "      <th>Job_duration(in hrs)</th>\n",
       "    </tr>\n",
       "  </thead>\n",
       "  <tbody>\n",
       "    <tr>\n",
       "      <th>0</th>\n",
       "      <td>0</td>\n",
       "      <td>8</td>\n",
       "      <td>381</td>\n",
       "      <td>4</td>\n",
       "      <td>3508.88</td>\n",
       "      <td>0.268056</td>\n",
       "    </tr>\n",
       "    <tr>\n",
       "      <th>1</th>\n",
       "      <td>0</td>\n",
       "      <td>8</td>\n",
       "      <td>1592</td>\n",
       "      <td>4</td>\n",
       "      <td>43669.84</td>\n",
       "      <td>28.306389</td>\n",
       "    </tr>\n",
       "    <tr>\n",
       "      <th>2</th>\n",
       "      <td>0</td>\n",
       "      <td>8</td>\n",
       "      <td>1776</td>\n",
       "      <td>4</td>\n",
       "      <td>330.50</td>\n",
       "      <td>0.056944</td>\n",
       "    </tr>\n",
       "    <tr>\n",
       "      <th>4</th>\n",
       "      <td>0</td>\n",
       "      <td>8</td>\n",
       "      <td>2033</td>\n",
       "      <td>4</td>\n",
       "      <td>750.25</td>\n",
       "      <td>0.140278</td>\n",
       "    </tr>\n",
       "    <tr>\n",
       "      <th>5</th>\n",
       "      <td>0</td>\n",
       "      <td>8</td>\n",
       "      <td>2471</td>\n",
       "      <td>4</td>\n",
       "      <td>1000.40</td>\n",
       "      <td>4.052222</td>\n",
       "    </tr>\n",
       "  </tbody>\n",
       "</table>\n",
       "</div>"
      ],
      "text/plain": [
       "   Make  Model  CITY  Order Type  Total_Expense  Job_duration(in hrs)\n",
       "0     0      8   381           4        3508.88              0.268056\n",
       "1     0      8  1592           4       43669.84             28.306389\n",
       "2     0      8  1776           4         330.50              0.056944\n",
       "4     0      8  2033           4         750.25              0.140278\n",
       "5     0      8  2471           4        1000.40              4.052222"
      ]
     },
     "execution_count": 64,
     "metadata": {},
     "output_type": "execute_result"
    }
   ],
   "source": [
    "X.head()"
   ]
  },
  {
   "cell_type": "code",
   "execution_count": 66,
   "metadata": {},
   "outputs": [],
   "source": [
    "X_train,X_test,y_train,y_test=train_test_split(X,y,test_size=0.3,random_state=0)"
   ]
  },
  {
   "cell_type": "code",
   "execution_count": 67,
   "metadata": {},
   "outputs": [],
   "source": [
    "dt = DecisionTreeClassifier(criterion='entropy',max_depth=8,random_state=0)\n",
    "\n",
    "dt.fit(X_train,y_train)\n",
    "\n",
    "y_pred_dt = dt.predict(X_test)\n",
    "y_pred_dt_train = dt.predict(X_train)\n"
   ]
  },
  {
   "cell_type": "code",
   "execution_count": 68,
   "metadata": {},
   "outputs": [
    {
     "data": {
      "text/plain": [
       "['Make',\n",
       " 'Model',\n",
       " 'CITY',\n",
       " 'Order Type',\n",
       " 'Total_Expense',\n",
       " 'Job_duration(in hrs)']"
      ]
     },
     "execution_count": 68,
     "metadata": {},
     "output_type": "execute_result"
    }
   ],
   "source": [
    "list(X)"
   ]
  },
  {
   "cell_type": "code",
   "execution_count": 69,
   "metadata": {},
   "outputs": [
    {
     "name": "stdout",
     "output_type": "stream",
     "text": [
      "Training Accuracy :- 0.7609142676368238\n",
      "Testing Accuracy :- 0.7641854789505796\n"
     ]
    }
   ],
   "source": [
    "print(\"Training Accuracy :-\" , accuracy_score(y_test,y_pred_dt))\n",
    "print(\"Testing Accuracy :-\" ,accuracy_score(y_train,y_pred_dt_train))"
   ]
  },
  {
   "cell_type": "code",
   "execution_count": 70,
   "metadata": {},
   "outputs": [],
   "source": [
    "Make_year_freq=data.groupby([\"Make\",\"Model\",\"Year\"]).agg({\"Invoice No\":'count',\"Total_Expense\":'mean'})\n",
    "Make_year_freq=Make_year_freq.reset_index()\n",
    "\n"
   ]
  },
  {
   "cell_type": "code",
   "execution_count": 72,
   "metadata": {},
   "outputs": [
    {
     "data": {
      "text/html": [
       "<div>\n",
       "<style scoped>\n",
       "    .dataframe tbody tr th:only-of-type {\n",
       "        vertical-align: middle;\n",
       "    }\n",
       "\n",
       "    .dataframe tbody tr th {\n",
       "        vertical-align: top;\n",
       "    }\n",
       "\n",
       "    .dataframe thead th {\n",
       "        text-align: right;\n",
       "    }\n",
       "</style>\n",
       "<table border=\"1\" class=\"dataframe\">\n",
       "  <thead>\n",
       "    <tr style=\"text-align: right;\">\n",
       "      <th></th>\n",
       "      <th>Make</th>\n",
       "      <th>Model</th>\n",
       "      <th>Year</th>\n",
       "      <th>Invoice No</th>\n",
       "      <th>Total_Expense</th>\n",
       "      <th>LTV</th>\n",
       "    </tr>\n",
       "  </thead>\n",
       "  <tbody>\n",
       "    <tr>\n",
       "      <th>0</th>\n",
       "      <td>audi</td>\n",
       "      <td>a4</td>\n",
       "      <td>2012</td>\n",
       "      <td>2</td>\n",
       "      <td>332.400000</td>\n",
       "      <td>664.80</td>\n",
       "    </tr>\n",
       "    <tr>\n",
       "      <th>1</th>\n",
       "      <td>audi</td>\n",
       "      <td>a4</td>\n",
       "      <td>2013</td>\n",
       "      <td>4</td>\n",
       "      <td>6209.032500</td>\n",
       "      <td>24836.13</td>\n",
       "    </tr>\n",
       "    <tr>\n",
       "      <th>2</th>\n",
       "      <td>audi</td>\n",
       "      <td>a4</td>\n",
       "      <td>2014</td>\n",
       "      <td>10</td>\n",
       "      <td>16488.358000</td>\n",
       "      <td>164883.58</td>\n",
       "    </tr>\n",
       "    <tr>\n",
       "      <th>3</th>\n",
       "      <td>audi</td>\n",
       "      <td>a4</td>\n",
       "      <td>2015</td>\n",
       "      <td>21</td>\n",
       "      <td>5676.389524</td>\n",
       "      <td>119204.18</td>\n",
       "    </tr>\n",
       "    <tr>\n",
       "      <th>4</th>\n",
       "      <td>audi</td>\n",
       "      <td>a4</td>\n",
       "      <td>2016</td>\n",
       "      <td>37</td>\n",
       "      <td>15789.168649</td>\n",
       "      <td>584199.24</td>\n",
       "    </tr>\n",
       "  </tbody>\n",
       "</table>\n",
       "</div>"
      ],
      "text/plain": [
       "   Make Model  Year  Invoice No  Total_Expense        LTV\n",
       "0  audi    a4  2012           2     332.400000     664.80\n",
       "1  audi    a4  2013           4    6209.032500   24836.13\n",
       "2  audi    a4  2014          10   16488.358000  164883.58\n",
       "3  audi    a4  2015          21    5676.389524  119204.18\n",
       "4  audi    a4  2016          37   15789.168649  584199.24"
      ]
     },
     "execution_count": 72,
     "metadata": {},
     "output_type": "execute_result"
    }
   ],
   "source": [
    "Make_year_freq.head()\n",
    "\n",
    "ltv_make_model_r=Make_year_freq.copy()\n",
    "ltv_make_model_r[\"LTV\"] = ltv_make_model_r[\"Invoice No\"] * ltv_make_model_r[\"Total_Expense\"]\n",
    "ltv_make_model_r.head()"
   ]
  },
  {
   "cell_type": "code",
   "execution_count": 73,
   "metadata": {},
   "outputs": [
    {
     "data": {
      "text/plain": [
       "<matplotlib.axes._subplots.AxesSubplot at 0x2ebac3d4bc8>"
      ]
     },
     "execution_count": 73,
     "metadata": {},
     "output_type": "execute_result"
    },
    {
     "data": {
      "image/png": "[encoded data removed]",
      "text/plain": [
       "<Figure size 432x288 with 1 Axes>"
      ]
     },
     "metadata": {
      "needs_background": "light"
     },
     "output_type": "display_data"
    }
   ],
   "source": [
    "ltv_make_model_r.groupby('Year')['LTV'].mean().plot(kind='bar', width=0.2)"
   ]
  }
 ],
 "metadata": {
  "kernelspec": {
   "display_name": "Python 3",
   "language": "python",
   "name": "python3"
  },
  "language_info": {
   "codemirror_mode": {
    "name": "ipython",
    "version": 3
   },
   "file_extension": ".py",
   "mimetype": "text/x-python",
   "name": "python",
   "nbconvert_exporter": "python",
   "pygments_lexer": "ipython3",
   "version": "3.7.3"
  }
 },
 "nbformat": 4,
 "nbformat_minor": 4
}
